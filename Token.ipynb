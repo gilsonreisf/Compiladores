{
  "nbformat": 4,
  "nbformat_minor": 0,
  "metadata": {
    "colab": {
      "provenance": [],
      "authorship_tag": "ABX9TyMLwobEkL8/pf1uSmbtXmH3"
    },
    "kernelspec": {
      "name": "python3",
      "display_name": "Python 3"
    },
    "language_info": {
      "name": "python"
    }
  },
  "cells": [
    {
      "cell_type": "code",
      "execution_count": 1,
      "metadata": {
        "id": "5pzqxDpFjX3R"
      },
      "outputs": [],
      "source": [
        "class Token:\n",
        "    def __init__(self, classe: str, lexema: str, tipo: str):\n",
        "        self.classe = classe\n",
        "        self.lexema = lexema\n",
        "        self.tipo = tipo"
      ]
    }
  ]
}