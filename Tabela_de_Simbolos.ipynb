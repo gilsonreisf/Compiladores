{
  "cells": [
    {
      "cell_type": "code",
      "execution_count": 12,
      "metadata": {
        "id": "9KwG7N3mle2W"
      },
      "outputs": [],
      "source": [
        "from Token import Token"
      ]
    },
    {
      "cell_type": "code",
      "execution_count": 14,
      "metadata": {
        "id": "PRP9-PF1k9lu"
      },
      "outputs": [],
      "source": [
        "class Tabela_de_Simbolos:\n",
        "    def __init__(self):\n",
        "      self.Tabela_de_Simbolos = {\n",
        "          'inicio': {'classe':'inicio', 'lexema':'inicio', 'tipo':'inicio'},\n",
        "          'varinicio': {'classe':'varinicio', 'lexema':'varinicio', 'tipo':'varinicio'},\n",
        "          'varfim': {'classe':'varfim', 'lexema':'varfim', 'tipo':'varfim'},\n",
        "          'escreva': {'classe':'escreva', 'lexema':'escreva', 'tipo':'escreva'},\n",
        "          'leia': {'classe':'leia', 'lexema':'leia', 'tipo':'leia'},\n",
        "          'se': {'classe':'se', 'lexema':'se', 'tipo':'se'},\n",
        "          'entao': {'classe':'entao', 'lexema':'entao', 'tipo':'entao'},\n",
        "          'fimse': {'classe':'fimse', 'lexema':'fimse', 'tipo':'fimse'},\n",
        "          'fim': {'classe':'fim', 'lexema':'fim', 'tipo':'fim'},\n",
        "          'inteiro': {'classe':'inteiro', 'lexema':'inteiro', 'tipo':'inteiro'},\n",
        "          'literal': {'classe':'literal', 'lexema':'literal', 'tipo':'literal'},\n",
        "          'real': {'classe':'real', 'lexema':'real', 'tipo':'real'}\n",
        "        }"
      ]
    },
    {
      "cell_type": "code",
      "execution_count": 15,
      "metadata": {
        "id": "qxYlBOXblAqI"
      },
      "outputs": [],
      "source": [
        "def buscar_token(self, token:Token):\n",
        "        for t in self.tabela:\n",
        "            if(t.lexema == token.lexema):\n",
        "                return t\n",
        "        return None\n",
        "      \n",
        "\n",
        "def inserir_token(self, token:Token):\n",
        "        token_encontrado = self.buscar_token(token)\n",
        "        if(token_encontrado is None):\n",
        "            if(token.classe == \"id\"):\n",
        "                self.tabela.append(token)\n",
        "            return token\n",
        "        else:\n",
        "            return token_encontrado\n",
        "\n",
        "def atualizar_token(self, token: Token):\n",
        "      if(token.classe == \"id\"):\n",
        "            token_tabela_simbolos = self.buscar_token(token)\n",
        "            if(token_tabela_simbolos):\n",
        "                self.tabela.remove(token_tabela_simbolos)\n",
        "                self.tabela.append(token)  \n",
        "\n",
        "def imprimir_tabela(self):\n",
        "        for i in self.tabela:\n",
        "            print(i)\n",
        "    "
      ]
    }
  ],
  "metadata": {
    "colab": {
      "authorship_tag": "ABX9TyMFtK5ZIj1g7ewxp/C7K16U",
      "provenance": []
    },
    "kernelspec": {
      "display_name": "Python 3",
      "language": "python",
      "name": "python3"
    },
    "language_info": {
      "name": "python",
      "version": "3.8.1 (tags/v3.8.1:1b293b6, Dec 18 2019, 23:11:46) [MSC v.1916 64 bit (AMD64)]"
    },
    "vscode": {
      "interpreter": {
        "hash": "cc813cc5503d1071a27ebb36626452882087e5d97610cb5910516f026c0e4fcf"
      }
    }
  },
  "nbformat": 4,
  "nbformat_minor": 0
}
