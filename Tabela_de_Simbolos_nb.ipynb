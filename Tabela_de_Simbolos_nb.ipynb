{
  "cells": [
    {
      "cell_type": "code",
      "execution_count": 26,
      "metadata": {
        "id": "9KwG7N3mle2W"
      },
      "outputs": [],
      "source": [
        "from Token import Token"
      ]
    },
    {
      "cell_type": "code",
      "execution_count": 30,
      "metadata": {
        "id": "PRP9-PF1k9lu"
      },
      "outputs": [],
      "source": [
        "class Tabela_de_Simbolos:\n",
        "    def __init__(self):\n",
        "      self.Tabela_de_Simbolos = {\n",
        "          'inicio': {'classe':'inicio', 'lexema':'inicio', 'tipo':'inicio'},\n",
        "          'varinicio': {'classe':'varinicio', 'lexema':'varinicio', 'tipo':'varinicio'},\n",
        "          'varfim': {'classe':'varfim', 'lexema':'varfim', 'tipo':'varfim'},\n",
        "          'escreva': {'classe':'escreva', 'lexema':'escreva', 'tipo':'escreva'},\n",
        "          'leia': {'classe':'leia', 'lexema':'leia', 'tipo':'leia'},\n",
        "          'se': {'classe':'se', 'lexema':'se', 'tipo':'se'},\n",
        "          'entao': {'classe':'entao', 'lexema':'entao', 'tipo':'entao'},\n",
        "          'fimse': {'classe':'fimse', 'lexema':'fimse', 'tipo':'fimse'},\n",
        "          'fim': {'classe':'fim', 'lexema':'fim', 'tipo':'fim'},\n",
        "          'inteiro': {'classe':'inteiro', 'lexema':'inteiro', 'tipo':'inteiro'},\n",
        "          'literal': {'classe':'literal', 'lexema':'literal', 'tipo':'literal'},\n",
        "          'real': {'classe':'real', 'lexema':'real', 'tipo':'real'}\n",
        "        }"
      ]
    },
    {
      "cell_type": "code",
      "execution_count": 28,
      "metadata": {
        "id": "qxYlBOXblAqI"
      },
      "outputs": [],
      "source": [
        "def buscar_token(self, token:Token):\n",
        "        for t in self.tabela:\n",
        "            if(t.lexema == token.lexema):\n",
        "                return t\n",
        "        return None\n",
        "      \n",
        "\n",
        "def inserir_token(self, token:Token):\n",
        "        token_encontrado = self.buscar_token(token)\n",
        "        if(token_encontrado is None):\n",
        "            if(token.classe == \"id\"):\n",
        "                self.tabela.append(token)\n",
        "            return token\n",
        "        else:\n",
        "            return token_encontrado\n",
        "\n",
        "def atualizar_token(self, token: Token):\n",
        "      if(token.classe == \"id\"):\n",
        "            token_tabela_simbolos = self.buscar_token(token)\n",
        "            if(token_tabela_simbolos):\n",
        "                self.tabela.remove(token_tabela_simbolos)\n",
        "                self.tabela.append(token)  \n",
        "\n",
        "def imprimir_tabela(self):\n",
        "        for i in self.tabela:\n",
        "            print(i)\n",
        "    "
      ]
    },
    {
      "cell_type": "code",
      "execution_count": 31,
      "metadata": {},
      "outputs": [],
      "source": [
        "tabela = Tabela_de_Simbolos()"
      ]
    },
    {
      "cell_type": "code",
      "execution_count": 32,
      "metadata": {},
      "outputs": [
        {
          "name": "stdout",
          "output_type": "stream",
          "text": [
            "inicio\n",
            "varinicio\n",
            "varfim\n",
            "escreva\n",
            "leia\n",
            "se\n",
            "entao\n",
            "fimse\n",
            "fim\n",
            "inteiro\n",
            "literal\n",
            "real\n"
          ]
        }
      ],
      "source": [
        "imprimir_tabela(tabela)"
      ]
    },
    {
      "cell_type": "code",
      "execution_count": 34,
      "metadata": {},
      "outputs": [
        {
          "ename": "AttributeError",
          "evalue": "'Tabela_de_Simbolos' object has no attribute 'buscar_token'",
          "output_type": "error",
          "traceback": [
            "\u001b[1;31m---------------------------------------------------------------------------\u001b[0m",
            "\u001b[1;31mAttributeError\u001b[0m                            Traceback (most recent call last)",
            "\u001b[1;32m~\\AppData\\Local\\Temp/ipykernel_6516/3458565945.py\u001b[0m in \u001b[0;36m<module>\u001b[1;34m\u001b[0m\n\u001b[1;32m----> 1\u001b[1;33m \u001b[0minserir_token\u001b[0m\u001b[1;33m(\u001b[0m\u001b[0mtabela\u001b[0m\u001b[1;33m,\u001b[0m \u001b[0mToken\u001b[0m\u001b[1;33m(\u001b[0m\u001b[0mclasse\u001b[0m\u001b[1;33m=\u001b[0m\u001b[1;34m\"Classe_Teste\"\u001b[0m\u001b[1;33m,\u001b[0m \u001b[0mlexema\u001b[0m\u001b[1;33m=\u001b[0m\u001b[1;34m\"Lexema_Teste\"\u001b[0m\u001b[1;33m,\u001b[0m \u001b[0mtipo\u001b[0m \u001b[1;33m=\u001b[0m \u001b[1;34m\"Tipo_teste\"\u001b[0m\u001b[1;33m)\u001b[0m\u001b[1;33m)\u001b[0m\u001b[1;33m\u001b[0m\u001b[1;33m\u001b[0m\u001b[0m\n\u001b[0m",
            "\u001b[1;32m~\\AppData\\Local\\Temp/ipykernel_6516/1012794616.py\u001b[0m in \u001b[0;36minserir_token\u001b[1;34m(self, token)\u001b[0m\n\u001b[0;32m      7\u001b[0m \u001b[1;33m\u001b[0m\u001b[0m\n\u001b[0;32m      8\u001b[0m \u001b[1;32mdef\u001b[0m \u001b[0minserir_token\u001b[0m\u001b[1;33m(\u001b[0m\u001b[0mself\u001b[0m\u001b[1;33m,\u001b[0m \u001b[0mtoken\u001b[0m\u001b[1;33m:\u001b[0m\u001b[0mToken\u001b[0m\u001b[1;33m)\u001b[0m\u001b[1;33m:\u001b[0m\u001b[1;33m\u001b[0m\u001b[1;33m\u001b[0m\u001b[0m\n\u001b[1;32m----> 9\u001b[1;33m         \u001b[0mtoken_encontrado\u001b[0m \u001b[1;33m=\u001b[0m \u001b[0mself\u001b[0m\u001b[1;33m.\u001b[0m\u001b[0mbuscar_token\u001b[0m\u001b[1;33m(\u001b[0m\u001b[0mtoken\u001b[0m\u001b[1;33m)\u001b[0m\u001b[1;33m\u001b[0m\u001b[1;33m\u001b[0m\u001b[0m\n\u001b[0m\u001b[0;32m     10\u001b[0m         \u001b[1;32mif\u001b[0m\u001b[1;33m(\u001b[0m\u001b[0mtoken_encontrado\u001b[0m \u001b[1;32mis\u001b[0m \u001b[1;32mNone\u001b[0m\u001b[1;33m)\u001b[0m\u001b[1;33m:\u001b[0m\u001b[1;33m\u001b[0m\u001b[1;33m\u001b[0m\u001b[0m\n\u001b[0;32m     11\u001b[0m             \u001b[1;32mif\u001b[0m\u001b[1;33m(\u001b[0m\u001b[0mtoken\u001b[0m\u001b[1;33m.\u001b[0m\u001b[0mclasse\u001b[0m \u001b[1;33m==\u001b[0m \u001b[1;34m\"id\"\u001b[0m\u001b[1;33m)\u001b[0m\u001b[1;33m:\u001b[0m\u001b[1;33m\u001b[0m\u001b[1;33m\u001b[0m\u001b[0m\n",
            "\u001b[1;31mAttributeError\u001b[0m: 'Tabela_de_Simbolos' object has no attribute 'buscar_token'"
          ]
        }
      ],
      "source": [
        "inserir_token(tabela, Token(classe=\"Classe_Teste\", lexema=\"Lexema_Teste\", tipo = \"Tipo_teste\"))"
      ]
    }
  ],
  "metadata": {
    "colab": {
      "authorship_tag": "ABX9TyMFtK5ZIj1g7ewxp/C7K16U",
      "provenance": []
    },
    "kernelspec": {
      "display_name": "base",
      "language": "python",
      "name": "python3"
    },
    "language_info": {
      "codemirror_mode": {
        "name": "ipython",
        "version": 3
      },
      "file_extension": ".py",
      "mimetype": "text/x-python",
      "name": "python",
      "nbconvert_exporter": "python",
      "pygments_lexer": "ipython3",
      "version": "3.9.7 (default, Sep 16 2021, 16:59:28) [MSC v.1916 64 bit (AMD64)]"
    },
    "vscode": {
      "interpreter": {
        "hash": "ad2bdc8ecc057115af97d19610ffacc2b4e99fae6737bb82f5d7fb13d2f2c186"
      }
    }
  },
  "nbformat": 4,
  "nbformat_minor": 0
}
