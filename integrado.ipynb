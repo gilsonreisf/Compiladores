{
 "cells": [
  {
   "cell_type": "code",
   "execution_count": 4,
   "metadata": {},
   "outputs": [
    {
     "ename": "ModuleNotFoundError",
     "evalue": "No module named 'Token'",
     "output_type": "error",
     "traceback": [
      "\u001b[1;31m---------------------------------------------------------------------------\u001b[0m",
      "\u001b[1;31mModuleNotFoundError\u001b[0m                       Traceback (most recent call last)",
      "Cell \u001b[1;32mIn[4], line 2\u001b[0m\n\u001b[0;32m      1\u001b[0m \u001b[39mfrom\u001b[39;00m \u001b[39mlexico\u001b[39;00m\u001b[39m.\u001b[39;00m\u001b[39mToken\u001b[39;00m \u001b[39mimport\u001b[39;00m \u001b[39m*\u001b[39m\n\u001b[1;32m----> 2\u001b[0m \u001b[39mfrom\u001b[39;00m \u001b[39mlexico\u001b[39;00m\u001b[39m.\u001b[39;00m\u001b[39mscanner\u001b[39;00m \u001b[39mimport\u001b[39;00m \u001b[39m*\u001b[39m\n\u001b[0;32m      3\u001b[0m \u001b[39mfrom\u001b[39;00m \u001b[39mlexico\u001b[39;00m\u001b[39m.\u001b[39;00m\u001b[39mcaractere_invalido_error\u001b[39;00m \u001b[39mimport\u001b[39;00m \u001b[39m*\u001b[39m\n\u001b[0;32m      4\u001b[0m \u001b[39mfrom\u001b[39;00m \u001b[39mlexico\u001b[39;00m\u001b[39m.\u001b[39;00m\u001b[39mfuncoes_auxiliares2\u001b[39;00m \u001b[39mimport\u001b[39;00m \u001b[39m*\u001b[39m\n",
      "File \u001b[1;32mg:\\Meu Drive\\UFG\\Disciplinas\\Compiladores\\Projeto\\Compiladores\\lexico\\scanner.py:1\u001b[0m\n\u001b[1;32m----> 1\u001b[0m \u001b[39mfrom\u001b[39;00m \u001b[39mToken\u001b[39;00m \u001b[39mimport\u001b[39;00m Token\n\u001b[0;32m      2\u001b[0m \u001b[39mfrom\u001b[39;00m \u001b[39mcaractere_invalido_error\u001b[39;00m \u001b[39mimport\u001b[39;00m CaractereInvalidoError\n\u001b[0;32m      3\u001b[0m \u001b[39mfrom\u001b[39;00m \u001b[39mtabela_de_estados\u001b[39;00m \u001b[39mimport\u001b[39;00m TabelaDeEstados\n",
      "\u001b[1;31mModuleNotFoundError\u001b[0m: No module named 'Token'"
     ]
    }
   ],
   "source": [
    "from lexico.Token import *\n",
    "from lexico.scanner import *\n",
    "from lexico.caractere_invalido_error import *\n",
    "from lexico.funcoes_auxiliares2 import *\n",
    "from lexico.tabela_de_estados import *\n",
    "from lexico.tabela_de_simbolos import *\n",
    "\n",
    "\n",
    "from sintatico.action import *\n",
    "from sintatico.funcoes_auxiliares import *\n",
    "from sintatico.goto import *\n",
    "from sintatico.parser_1 import *\n",
    "from sintatico.regras import *\n",
    "from sintatico.tabelas import *\n",
    "\n",
    "\n",
    "\n",
    "def main():\n",
    "  tabelaEstados = TabelaDeEstados()\n",
    "  tabelaDeSimbolos = TabelaDeSimbolos()\n",
    "  scanner = Scanner(\"./lexico/codigo.txt\")\n",
    "  parser = Parser()\n",
    "\n",
    "  while True:      \n",
    "    token = scanner.SCANNER(tabelaEstados, tabelaDeSimbolos)\n",
    "    # parser.PARSER(token)\n",
    "    print(token)\n",
    "\n",
    "    if token.classe == 'EOF':\n",
    "        break\n",
    "  \n",
    "\n",
    "if __name__ == \"__main__\":\n",
    "  main()"
   ]
  }
 ],
 "metadata": {
  "kernelspec": {
   "display_name": "Python 3",
   "language": "python",
   "name": "python3"
  },
  "language_info": {
   "codemirror_mode": {
    "name": "ipython",
    "version": 3
   },
   "file_extension": ".py",
   "mimetype": "text/x-python",
   "name": "python",
   "nbconvert_exporter": "python",
   "pygments_lexer": "ipython3",
   "version": "3.10.1 (tags/v3.10.1:2cd268a, Dec  6 2021, 19:10:37) [MSC v.1929 64 bit (AMD64)]"
  },
  "orig_nbformat": 4,
  "vscode": {
   "interpreter": {
    "hash": "18ec32658ef92bbbbefc98c3c8471b646fe2ec18f116030ca69b0fc2fc383acb"
   }
  }
 },
 "nbformat": 4,
 "nbformat_minor": 2
}
