{
 "cells": [
  {
   "cell_type": "code",
   "execution_count": null,
   "metadata": {},
   "outputs": [],
   "source": [
    "from parser_2 import Parser2\n",
    "\n",
    "\n",
    "def main():\n",
    "  parser = Parser2()\n",
    "  parser.PARSER()\n",
    "  \n",
    "\n",
    "if __name__ == \"__main__\":\n",
    "  main()"
   ]
  }
 ],
 "metadata": {
  "kernelspec": {
   "display_name": "Python 3",
   "language": "python",
   "name": "python3"
  },
  "language_info": {
   "name": "python",
   "version": "3.10.1 (tags/v3.10.1:2cd268a, Dec  6 2021, 19:10:37) [MSC v.1929 64 bit (AMD64)]"
  },
  "orig_nbformat": 4,
  "vscode": {
   "interpreter": {
    "hash": "18ec32658ef92bbbbefc98c3c8471b646fe2ec18f116030ca69b0fc2fc383acb"
   }
  }
 },
 "nbformat": 4,
 "nbformat_minor": 2
}
