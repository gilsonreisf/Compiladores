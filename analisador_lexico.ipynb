{
 "cells": [
  {
   "cell_type": "code",
   "execution_count": 1,
   "metadata": {},
   "outputs": [],
   "source": [
    "import string"
   ]
  },
  {
   "cell_type": "code",
   "execution_count": 64,
   "metadata": {},
   "outputs": [],
   "source": [
    "def verifica_digito(character : str):\n",
    "    digitos = ['0','1','2','3','4','5','6','7','8','9']\n",
    "    if character in digitos:\n",
    "        return True\n",
    "    else:\n",
    "        return False"
   ]
  },
  {
   "cell_type": "code",
   "execution_count": 16,
   "metadata": {},
   "outputs": [],
   "source": [
    "def verifica_se_letra(character : str):\n",
    "    \n",
    "    if (character in string.ascii_lowercase) or (character in string.ascii_uppercase):\n",
    "        return True\n",
    "    else:\n",
    "        return False"
   ]
  },
  {
   "cell_type": "code",
   "execution_count": 53,
   "metadata": {},
   "outputs": [],
   "source": [
    "def verifica_existencia_caractere(character : str):\n",
    "    if (character != None) and not(character.isspace()):\n",
    "        return True\n",
    "    else:\n",
    "        return False"
   ]
  },
  {
   "cell_type": "code",
   "execution_count": 68,
   "metadata": {},
   "outputs": [],
   "source": [
    "palavras_reservadas = ['inicio', 'varinicio', 'varfim', 'escreva', 'leia', \n",
    "                      'se', 'entao', 'fimse', 'fim', 'inteiro', 'literal', 'real']"
   ]
  },
  {
   "cell_type": "code",
   "execution_count": 120,
   "metadata": {},
   "outputs": [],
   "source": [
    "indice_tabela = {'D':0, '\\\"':1, 'L':2, '{':3}"
   ]
  },
  {
   "cell_type": "code",
   "execution_count": 121,
   "metadata": {},
   "outputs": [
    {
     "data": {
      "text/plain": [
       "1"
      ]
     },
     "execution_count": 121,
     "metadata": {},
     "output_type": "execute_result"
    }
   ],
   "source": [
    "indice_tabela['\"']"
   ]
  },
  {
   "cell_type": "code",
   "execution_count": 27,
   "metadata": {},
   "outputs": [],
   "source": []
  },
  {
   "cell_type": "code",
   "execution_count": null,
   "metadata": {},
   "outputs": [],
   "source": []
  },
  {
   "cell_type": "code",
   "execution_count": 57,
   "metadata": {},
   "outputs": [],
   "source": [
    "class TabelaDeEstados:\n",
    "  def __init__(self):\n",
    "\n",
    "    self.letras = ['a','b','c','d','e','f','g','h','i','j','k','l','m','n','o','p','q','r','s','t','u','v','w','x','y','z','A','B','C','D','E','F','G','H','I','J','K','L','M','N','O','P','Q','R','S','T','U','V','W','X','Y','Z']\n",
    "\n",
    "    self.digitos = ['0','1','2','3','4','5','6','7','8','9']\n",
    "\n",
    "    self.simbolos = ['\"', '.', '_', '{', '}', '<', '>', '=', '-', '+', '*', '/', '(', ')', ';', ',']\n",
    "\n",
    "    self.outros = ['[', ']', '?', '!', '\\\\', '/', '&', '@', '|', ':']       #Esse aqui vai ser usado somente no estado de comentário e literal\n",
    "\n",
    "    self.alfabeto = self.letras + self.digitos + self.simbolos\n",
    "\n",
    "    self.tabela_de_estados = {\n",
    "\n",
    "          0: {'D':1, '\"':7, 'L':10, '{':12, 'EOF':15, '<':16, '>':26, '=':28, '+':18, '-':18, '*':18, '/':18, '(':19, ')':20, ';':21, ',':22, ' ':0},       \n",
    "\n",
    "          1: {'D':1, '.':2, 'E':4, 'e':4},\n",
    "\n",
    "          2: {'D':3},      \n",
    "\n",
    "          3: {'D':3, 'E':4, 'e':4},     \n",
    "\n",
    "          4: {'D':6, '+':5, '-':5},\n",
    "\n",
    "          5: {'D':6},\n",
    "\n",
    "          6: {'D':6},\n",
    "\n",
    "          7: {'[': 8, ']': 8, '?': 8, '!': 8, '\\\\': 8, '/': 8, '&': 8, '@': 8, '|': 8, '.': 8, '_': 8, '<': 8, '>': 8, '=': 8, '-': 8, '+': 8, '*': 8, '/': 8, '(': 8, ')': 8, ';': 8, ',': 8, '.':8, 'D':8, 'L':8, '{':8, '}':8, ':': 8, '\"': 9 },\n",
    "\n",
    "          8: {'[': 8, ']': 8, '?': 8, '!': 8, '\\\\': 8, '/': 8, '&': 8, '@': 8, '|': 8, '.': 8, '_': 8, '<': 8, '>': 8, '=': 8, '-': 8, '+': 8, '*': 8, '/': 8, '(': 8, ')': 8, ';': 8, ',': 8, '.':8, 'D':8, 'L':8, '{':8, '}':8, ':': 8, '\"': 9 },    \n",
    "\n",
    "          9: {},\n",
    "\n",
    "          10: {'D':11, 'L':11, '_':11},\n",
    "\n",
    "          11: {'D':11, 'L':11, '_':11},\n",
    "\n",
    "          12: {'[': 13, ']': 13, '?': 13, '!': 13, '\\\\': 13, '/': 13, '&': 13, '@': 13, '|': 13, '\"': 13, '.': 13, '_': 13, '<': 13, '>': 13, '=': 13, '-': 13, '+': 13, '*': 13, '/': 13, '(': 13, ')': 13, ';': 13, ',': 13, '.':13, 'D':13, 'L':13, ':': 13, '}': 14},\n",
    "\n",
    "          13: {'[': 13, ']': 13, '?': 13, '!': 13, '\\\\': 13, '/': 13, '&': 13, '@': 13, '|': 13, '\"': 13, '.': 13, '_': 13, '<': 13, '>': 13, '=': 13, '-': 13, '+': 13, '*': 13, '/': 13, '(': 13, ')': 13, ';': 13, ',': 13, '.':13, 'D':13, 'L':13, ':': 13, '}': 14},\n",
    "\n",
    "          14: {},\n",
    "\n",
    "          15: {},\n",
    "\n",
    "          16: {'-': 17, '>': 25, '=': 24},\n",
    "\n",
    "          17: {},\n",
    "\n",
    "          18: {},\n",
    "\n",
    "          19: {},\n",
    "\n",
    "          20: {},\n",
    "\n",
    "          21: {},\n",
    "\n",
    "          22: {},\n",
    "\n",
    "          23: {},\n",
    "\n",
    "          24: {},\n",
    "\n",
    "          25: {},\n",
    "\n",
    "          26: {'=': 27},\n",
    "\n",
    "          27: {},\n",
    "\n",
    "          28: {},\n",
    "\n",
    "        }\n",
    "\n",
    "\n",
    "    self.estados_de_reducao = {\n",
    "      1:\"Num\",\n",
    "      3:\"Num\",\n",
    "      6:\"Num\",\n",
    "      9:\"Lit\",\n",
    "      10:\"id\",\n",
    "      11:\"id\",\n",
    "      14:\"Comentário\",\n",
    "      15:\"EOF\",\n",
    "      16:\"OPR\",\n",
    "      17:\"ATR\",\n",
    "      18:\"OPA\",\n",
    "      19:\"AB_P\",\n",
    "      20:\"FC_P\",\n",
    "      21:\"PT_V\",\n",
    "      22:\"VIR\",\n",
    "      23:\"ERRO\",\n",
    "      24:\"OPR\",\n",
    "      25:\"OPR\",\n",
    "      26:\"OPR\",\n",
    "      27:\"OPR\",\n",
    "      28:\"OPR\",\n",
    "    }\n",
    "\n",
    "    self.estados_incompletos = {\n",
    "      0:\"Caracter inválido\",\n",
    "      2:\"Num incompleto\",\n",
    "      4:\"Num incompleto\",\n",
    "      5:\"Num incompleto\",\n",
    "      7:\"Literal incompleto\",\n",
    "      8:\"Literal incompleto\",\n",
    "      12:\"Comentário incompleto\",\n",
    "      13:\"Comentário incompleto\",\n",
    "    }\n",
    "\n",
    "    self.estado_atual = 0\n",
    "\n",
    "\n",
    "  def verificarSeProximoEstadoEValido(self, proximoEstado):\n",
    "    try:\n",
    "      self.estado_atual = self.tabela_de_estados[self.estado_atual][proximoEstado]\n",
    "      return True\n",
    "\n",
    "    except KeyError:\n",
    "      return False\n",
    "\n",
    "  def verificarSeEstadoAtualEValido(self):\n",
    "    try:\n",
    "      self.estados_de_reducao[self.estado_atual]\n",
    "      return True\n",
    "\n",
    "    except KeyError:\n",
    "      return False\n",
    "\n",
    "  def obterClasseDoEstadoFinal(self):\n",
    "    return self.estados_de_reducao[self.estado_atual]\n",
    "\n",
    "\n",
    "  def lancarErro(self, linha):\n",
    "    print('ERRO LÉXICO –', self.estados_incompletos[self.estado_atual], 'linha', linha)\n",
    "    self.estado_atual = 0\n",
    "\n",
    "\n",
    "\n",
    "  def verificaTipoCaractere(self, char):\n",
    "    if (char in self.letras):\n",
    "          return 'L'\n",
    "    elif (char in self.digitos):\n",
    "          return 'D'\n",
    "    "
   ]
  },
  {
   "cell_type": "code",
   "execution_count": 60,
   "metadata": {},
   "outputs": [
    {
     "data": {
      "text/plain": [
       "'D'"
      ]
     },
     "execution_count": 60,
     "metadata": {},
     "output_type": "execute_result"
    }
   ],
   "source": [
    "tabela = TabelaDeEstados()\n",
    "char = '9'\n",
    "tabela.verificaTipoCaractere(char)"
   ]
  },
  {
   "cell_type": "code",
   "execution_count": 123,
   "metadata": {},
   "outputs": [],
   "source": [
    "def realiza_mudanca_de_estado(estado_atual, character : str):\n",
    "    character_index = character\n",
    "\n",
    "    if verifica_digito(character):\n",
    "        character_index = 'D'\n",
    "\n",
    "    if verifica_se_letra(character):\n",
    "        character_index  = 'L'\n",
    "        \n",
    "    return tabela_de_estados[estado_atual][indice_tabela[character_index]]"
   ]
  },
  {
   "cell_type": "code",
   "execution_count": 139,
   "metadata": {},
   "outputs": [
    {
     "data": {
      "text/plain": [
       "10"
      ]
     },
     "execution_count": 139,
     "metadata": {},
     "output_type": "execute_result"
    }
   ],
   "source": [
    "realiza_mudanca_de_estado(0, 'A')"
   ]
  },
  {
   "cell_type": "code",
   "execution_count": 136,
   "metadata": {},
   "outputs": [],
   "source": [
    "class Token():\n",
    "    def __init__(self, classe : str, lexema : str, tipo : str) -> None:\n",
    "        self.classe = classe\n",
    "        self.lexema = lexema\n",
    "        self.tipo = tipo\n",
    "    \n",
    "    def __str__(self) -> str:\n",
    "        return f\"Classe: {self.classe}, Lexema: {self.lexema}, Tipo: {self.tipo}\"\n",
    "    def __repr__(self) -> str:\n",
    "        return f\"Classe: {self.classe}, Lexema: {self.lexema}, Tipo: {self.tipo}\""
   ]
  },
  {
   "cell_type": "code",
   "execution_count": 137,
   "metadata": {},
   "outputs": [],
   "source": [
    "x = Token(classe = \"Qualquer merda\", lexema = \"Nem sei o que é\", tipo = \"2\")"
   ]
  },
  {
   "cell_type": "code",
   "execution_count": null,
   "metadata": {},
   "outputs": [],
   "source": [
    "tabela_de_simbolos = [x] #Uma lista de tokens"
   ]
  }
 ],
 "metadata": {
  "kernelspec": {
   "display_name": "Python 3.10.1 64-bit",
   "language": "python",
   "name": "python3"
  },
  "language_info": {
   "codemirror_mode": {
    "name": "ipython",
    "version": 3
   },
   "file_extension": ".py",
   "mimetype": "text/x-python",
   "name": "python",
   "nbconvert_exporter": "python",
   "pygments_lexer": "ipython3",
   "version": "3.10.1"
  },
  "orig_nbformat": 4,
  "vscode": {
   "interpreter": {
    "hash": "18ec32658ef92bbbbefc98c3c8471b646fe2ec18f116030ca69b0fc2fc383acb"
   }
  }
 },
 "nbformat": 4,
 "nbformat_minor": 2
}
