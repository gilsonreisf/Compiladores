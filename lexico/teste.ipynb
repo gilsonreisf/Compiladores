{
 "cells": [
  {
   "cell_type": "code",
   "execution_count": 3,
   "metadata": {},
   "outputs": [],
   "source": [
    "from scanner import Scanner\n",
    "from tabela_de_estados import TabelaDeEstados\n",
    "from tabela_de_simbolos import TabelaDeSimbolos\n",
    "import json\n",
    "\n",
    "def main():\n",
    "  tabelaEstados = TabelaDeEstados()\n",
    "  tabelaDeSimbolos = TabelaDeSimbolos()\n",
    "  scanner = Scanner(\"codigo.txt\")\n",
    "\n",
    "  array = []\n",
    "\n",
    "  while True:      \n",
    "    token = scanner.SCANNER(tabelaEstados, tabelaDeSimbolos)\n",
    "    array.append(token)\n",
    "    # print(token)\n",
    "    teste = json.dumps(array, default=lambda o: o.__dict__, \n",
    "            sort_keys=True, indent=4)\n",
    "    \n",
    "    with open(\"sample.json\", \"w\") as outfile:\n",
    "      outfile.write(teste)\n",
    "\n",
    "\n",
    "    if token.classe == 'EOF':\n",
    "        break\n",
    "  \n",
    "\n",
    "if __name__ == \"__main__\":\n",
    "  main()"
   ]
  },
  {
   "cell_type": "code",
   "execution_count": 2,
   "metadata": {},
   "outputs": [
    {
     "data": {
      "text/plain": [
       "True"
      ]
     },
     "execution_count": 2,
     "metadata": {},
     "output_type": "execute_result"
    }
   ],
   "source": [
    "from Token import Token\n",
    "\n",
    "token1 = Token('pt_v', ';', 'NULO')\n",
    "token2 = Token('pt_v', ';', 'NULO')\n",
    "\n",
    "token1 == token2"
   ]
  }
 ],
 "metadata": {
  "kernelspec": {
   "display_name": "Python 3",
   "language": "python",
   "name": "python3"
  },
  "language_info": {
   "codemirror_mode": {
    "name": "ipython",
    "version": 3
   },
   "file_extension": ".py",
   "mimetype": "text/x-python",
   "name": "python",
   "nbconvert_exporter": "python",
   "pygments_lexer": "ipython3",
   "version": "3.10.1"
  },
  "orig_nbformat": 4,
  "vscode": {
   "interpreter": {
    "hash": "18ec32658ef92bbbbefc98c3c8471b646fe2ec18f116030ca69b0fc2fc383acb"
   }
  }
 },
 "nbformat": 4,
 "nbformat_minor": 2
}
