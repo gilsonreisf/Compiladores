{
 "cells": [
  {
   "cell_type": "code",
   "execution_count": 28,
   "metadata": {},
   "outputs": [],
   "source": [
    "arquivo = open(\"teste.txt\", \"r\")\n",
    "codigoFonte = arquivo.readlines()"
   ]
  },
  {
   "cell_type": "code",
   "execution_count": 29,
   "metadata": {},
   "outputs": [
    {
     "data": {
      "text/plain": [
       "['inicio\\n',\n",
       " '    varinicio\\n',\n",
       " '        literal A;\\n',\n",
       " '        inteiro B, D, E;\\n',\n",
       " '        real C ;\\n',\n",
       " '    varfim;\\n',\n",
       " '    escreva \"Digite B:\";\\n',\n",
       " '    leia B;\\n',\n",
       " '    escreva \"Digite A:\";\\n',\n",
       " '    leia A;\\n',\n",
       " '    se(B>2)\\n',\n",
       " '    entao\\n',\n",
       " '        se(B<=4)\\n',\n",
       " '        entao\\n',\n",
       " '            escreva \"B esta entre 2 e 4\";\\n',\n",
       " '        fimse\\n',\n",
       " '    fimse\\n',\n",
       " '    B<-B+1;\\n',\n",
       " '    B<-B+2;\\n',\n",
       " '    B<-B+3;\\n',\n",
       " '    D<-B;\\n',\n",
       " '    C<-5.0;\\n',\n",
       " '    E<-B+2;\\n',\n",
       " '    escreva C;\\n',\n",
       " '    B<-B+1;\\n',\n",
       " '    escreva \"\\\\nB=\\\\n\"; {\\\\n Ã© o sÃ\\xadmbolo para salto de linha}\\n',\n",
       " '    escreva D;\\n',\n",
       " '    escreva \"\\\\n\";\\n',\n",
       " '    escreva C;\\n',\n",
       " '    escreva \"\\\\n\";\\n',\n",
       " '    escreva A;\\n',\n",
       " 'fim']"
      ]
     },
     "execution_count": 29,
     "metadata": {},
     "output_type": "execute_result"
    }
   ],
   "source": [
    "codigoFonte"
   ]
  },
  {
   "cell_type": "code",
   "execution_count": 48,
   "metadata": {},
   "outputs": [],
   "source": [
    "def cleanCode(codigoFonte):\n",
    "  size=len(codigoFonte)-1\n",
    "  codigoFonte[size] = codigoFonte[size]+'\\n'\n",
    "  try:\n",
    "      while True:\n",
    "          codigoFonte.remove('\\n')\n",
    "  except ValueError:\n",
    "      pass\n",
    "  return codigoFonte\n",
    "  \n",
    "codigoFormatado = cleanCode(codigoFonte)"
   ]
  },
  {
   "cell_type": "code",
   "execution_count": 49,
   "metadata": {},
   "outputs": [
    {
     "data": {
      "text/plain": [
       "True"
      ]
     },
     "execution_count": 49,
     "metadata": {},
     "output_type": "execute_result"
    }
   ],
   "source": [
    "codigoFonte == codigoFormatado"
   ]
  },
  {
   "cell_type": "code",
   "execution_count": 57,
   "metadata": {},
   "outputs": [
    {
     "data": {
      "text/plain": [
       "'inicio'"
      ]
     },
     "execution_count": 57,
     "metadata": {},
     "output_type": "execute_result"
    }
   ],
   "source": [
    "      #[LINHA][COLUNA]\n",
    "codigoFonte[0][:-1]"
   ]
  },
  {
   "cell_type": "code",
   "execution_count": 32,
   "metadata": {},
   "outputs": [],
   "source": [
    "from Tabela_de_Simbolos import Tabela_de_Simbolos"
   ]
  },
  {
   "cell_type": "code",
   "execution_count": 33,
   "metadata": {},
   "outputs": [],
   "source": [
    "minha_tabela = Tabela_de_Simbolos()"
   ]
  },
  {
   "cell_type": "code",
   "execution_count": 34,
   "metadata": {},
   "outputs": [
    {
     "name": "stdout",
     "output_type": "stream",
     "text": [
      "Classe:inicio, Lexema:inicio, Tipo:inicio\n",
      "Classe:varinicio, Lexema:varinicio, Tipo:varinicio\n",
      "Classe:varfim, Lexema:varfim, Tipo:varfim\n",
      "Classe:escreva, Lexema:escreva, Tipo:escreva\n",
      "Classe:leia, Lexema:leia, Tipo:leia\n",
      "Classe:se, Lexema:se, Tipo:se\n",
      "Classe:entao, Lexema:entao, Tipo:entao\n",
      "Classe:fimse, Lexema:fimse, Tipo:fimse\n",
      "Classe:fim, Lexema:fim, Tipo:fim\n",
      "Classe:inteiro, Lexema:inteiro, Tipo:inteiro\n",
      "Classe:literal, Lexema:literal, Tipo:literal\n",
      "Classe:real, Lexema:real, Tipo:real\n"
     ]
    }
   ],
   "source": [
    "Tabela_de_Simbolos.imprimir_tabela(minha_tabela)"
   ]
  },
  {
   "cell_type": "code",
   "execution_count": 35,
   "metadata": {},
   "outputs": [],
   "source": [
    "from Token import Token"
   ]
  },
  {
   "cell_type": "code",
   "execution_count": 36,
   "metadata": {},
   "outputs": [
    {
     "name": "stdout",
     "output_type": "stream",
     "text": [
      "Classe: real, Lexema: real, Tipo: real\n"
     ]
    }
   ],
   "source": [
    "#Tabela_de_Simbolos.buscar_token(minha_tabela, Token(classe=\"Classe_exemplo\",lexema=\"lexema_Exemplo\", tipo=\"tipo\"))\n",
    "resultado = Tabela_de_Simbolos.buscar_token(minha_tabela, Token(classe=\"real\",lexema=\"real\", tipo=\"real\"))\n",
    "print(resultado)"
   ]
  },
  {
   "cell_type": "code",
   "execution_count": 37,
   "metadata": {},
   "outputs": [
    {
     "data": {
      "text/plain": [
       "Classe: id, Lexema: felps, Tipo: gilso"
      ]
     },
     "execution_count": 37,
     "metadata": {},
     "output_type": "execute_result"
    }
   ],
   "source": [
    "Tabela_de_Simbolos.inserir_token(minha_tabela, Token(classe=\"id\",lexema=\"felps\", tipo=\"gilso\"))"
   ]
  },
  {
   "cell_type": "code",
   "execution_count": 38,
   "metadata": {},
   "outputs": [
    {
     "name": "stdout",
     "output_type": "stream",
     "text": [
      "Classe:inicio, Lexema:inicio, Tipo:inicio\n",
      "Classe:varinicio, Lexema:varinicio, Tipo:varinicio\n",
      "Classe:varfim, Lexema:varfim, Tipo:varfim\n",
      "Classe:escreva, Lexema:escreva, Tipo:escreva\n",
      "Classe:leia, Lexema:leia, Tipo:leia\n",
      "Classe:se, Lexema:se, Tipo:se\n",
      "Classe:entao, Lexema:entao, Tipo:entao\n",
      "Classe:fimse, Lexema:fimse, Tipo:fimse\n",
      "Classe:fim, Lexema:fim, Tipo:fim\n",
      "Classe:inteiro, Lexema:inteiro, Tipo:inteiro\n",
      "Classe:literal, Lexema:literal, Tipo:literal\n",
      "Classe:real, Lexema:real, Tipo:real\n",
      "Classe:id, Lexema:felps, Tipo:gilso\n"
     ]
    }
   ],
   "source": [
    "Tabela_de_Simbolos.imprimir_tabela(minha_tabela)"
   ]
  },
  {
   "cell_type": "code",
   "execution_count": 39,
   "metadata": {},
   "outputs": [],
   "source": [
    "Tabela_de_Simbolos.atualizar_token(minha_tabela, Token(classe=\"id\",lexema=\"felps\", tipo=\"felps\"))"
   ]
  },
  {
   "cell_type": "code",
   "execution_count": 40,
   "metadata": {},
   "outputs": [
    {
     "name": "stdout",
     "output_type": "stream",
     "text": [
      "Classe:inicio, Lexema:inicio, Tipo:inicio\n",
      "Classe:varinicio, Lexema:varinicio, Tipo:varinicio\n",
      "Classe:varfim, Lexema:varfim, Tipo:varfim\n",
      "Classe:escreva, Lexema:escreva, Tipo:escreva\n",
      "Classe:leia, Lexema:leia, Tipo:leia\n",
      "Classe:se, Lexema:se, Tipo:se\n",
      "Classe:entao, Lexema:entao, Tipo:entao\n",
      "Classe:fimse, Lexema:fimse, Tipo:fimse\n",
      "Classe:fim, Lexema:fim, Tipo:fim\n",
      "Classe:inteiro, Lexema:inteiro, Tipo:inteiro\n",
      "Classe:literal, Lexema:literal, Tipo:literal\n",
      "Classe:real, Lexema:real, Tipo:real\n",
      "Classe:id, Lexema:felps, Tipo:felps\n"
     ]
    }
   ],
   "source": [
    "Tabela_de_Simbolos.imprimir_tabela(minha_tabela)"
   ]
  },
  {
   "cell_type": "code",
   "execution_count": 41,
   "metadata": {},
   "outputs": [
    {
     "data": {
      "text/plain": [
       "[Classe: inicio, Lexema: inicio, Tipo: inicio,\n",
       " Classe: varinicio, Lexema: varinicio, Tipo: varinicio,\n",
       " Classe: varfim, Lexema: varfim, Tipo: varfim,\n",
       " Classe: escreva, Lexema: escreva, Tipo: escreva,\n",
       " Classe: leia, Lexema: leia, Tipo: leia,\n",
       " Classe: se, Lexema: se, Tipo: se,\n",
       " Classe: entao, Lexema: entao, Tipo: entao,\n",
       " Classe: fimse, Lexema: fimse, Tipo: fimse,\n",
       " Classe: fim, Lexema: fim, Tipo: fim,\n",
       " Classe: inteiro, Lexema: inteiro, Tipo: inteiro,\n",
       " Classe: literal, Lexema: literal, Tipo: literal,\n",
       " Classe: real, Lexema: real, Tipo: real,\n",
       " Classe: id, Lexema: felps, Tipo: felps]"
      ]
     },
     "execution_count": 41,
     "metadata": {},
     "output_type": "execute_result"
    }
   ],
   "source": [
    "minha_tabela.tabela"
   ]
  },
  {
   "cell_type": "code",
   "execution_count": 42,
   "metadata": {},
   "outputs": [
    {
     "data": {
      "text/plain": [
       "Classe: id, Lexema: gilso, Tipo: gilso"
      ]
     },
     "execution_count": 42,
     "metadata": {},
     "output_type": "execute_result"
    }
   ],
   "source": [
    "Token(classe=\"id\",lexema=\"gilso\", tipo=\"gilso\")"
   ]
  },
  {
   "cell_type": "code",
   "execution_count": 43,
   "metadata": {},
   "outputs": [],
   "source": [
    "Tabela_de_Simbolos.atualizar_token(minha_tabela, Token(classe=\"id\",lexema=\"gilso\", tipo=\"gilso\"))"
   ]
  },
  {
   "cell_type": "code",
   "execution_count": 44,
   "metadata": {},
   "outputs": [
    {
     "data": {
      "text/plain": [
       "[Classe: inicio, Lexema: inicio, Tipo: inicio,\n",
       " Classe: varinicio, Lexema: varinicio, Tipo: varinicio,\n",
       " Classe: varfim, Lexema: varfim, Tipo: varfim,\n",
       " Classe: escreva, Lexema: escreva, Tipo: escreva,\n",
       " Classe: leia, Lexema: leia, Tipo: leia,\n",
       " Classe: se, Lexema: se, Tipo: se,\n",
       " Classe: entao, Lexema: entao, Tipo: entao,\n",
       " Classe: fimse, Lexema: fimse, Tipo: fimse,\n",
       " Classe: fim, Lexema: fim, Tipo: fim,\n",
       " Classe: inteiro, Lexema: inteiro, Tipo: inteiro,\n",
       " Classe: literal, Lexema: literal, Tipo: literal,\n",
       " Classe: real, Lexema: real, Tipo: real,\n",
       " Classe: id, Lexema: felps, Tipo: felps]"
      ]
     },
     "execution_count": 44,
     "metadata": {},
     "output_type": "execute_result"
    }
   ],
   "source": [
    "minha_tabela.tabela"
   ]
  },
  {
   "cell_type": "code",
   "execution_count": 45,
   "metadata": {},
   "outputs": [
    {
     "data": {
      "text/plain": [
       "[1, 2, 3, 4, 6]"
      ]
     },
     "execution_count": 45,
     "metadata": {},
     "output_type": "execute_result"
    }
   ],
   "source": [
    "minha_lista = [1,2,3,4,5,6]\n",
    "minha_lista.remove(5)\n",
    "minha_lista"
   ]
  },
  {
   "cell_type": "code",
   "execution_count": 46,
   "metadata": {},
   "outputs": [
    {
     "data": {
      "text/plain": [
       "[1, 2, 3, 4, 6, 5]"
      ]
     },
     "execution_count": 46,
     "metadata": {},
     "output_type": "execute_result"
    }
   ],
   "source": [
    "minha_lista.append(5)\n",
    "minha_lista"
   ]
  },
  {
   "cell_type": "code",
   "execution_count": 47,
   "metadata": {},
   "outputs": [
    {
     "data": {
      "text/plain": [
       "[1, 2, 3, 4, 6]"
      ]
     },
     "execution_count": 47,
     "metadata": {},
     "output_type": "execute_result"
    }
   ],
   "source": [
    "minha_lista.pop()\n",
    "minha_lista"
   ]
  }
 ],
 "metadata": {
  "kernelspec": {
   "display_name": "base",
   "language": "python",
   "name": "python3"
  },
  "language_info": {
   "codemirror_mode": {
    "name": "ipython",
    "version": 3
   },
   "file_extension": ".py",
   "mimetype": "text/x-python",
   "name": "python",
   "nbconvert_exporter": "python",
   "pygments_lexer": "ipython3",
   "version": "3.9.7"
  },
  "orig_nbformat": 4,
  "vscode": {
   "interpreter": {
    "hash": "ad2bdc8ecc057115af97d19610ffacc2b4e99fae6737bb82f5d7fb13d2f2c186"
   }
  }
 },
 "nbformat": 4,
 "nbformat_minor": 2
}
