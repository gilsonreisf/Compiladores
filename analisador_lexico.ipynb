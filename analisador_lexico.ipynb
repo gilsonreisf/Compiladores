{
 "cells": [
  {
   "cell_type": "code",
   "execution_count": 25,
   "metadata": {},
   "outputs": [],
   "source": [
    "import string"
   ]
  },
  {
   "cell_type": "code",
   "execution_count": 26,
   "metadata": {},
   "outputs": [],
   "source": [
    "def verifica_digito(character : str):\n",
    "    digitos = ['0','1','2','3','4','5','6','7','8','9']\n",
    "    if character in digitos:\n",
    "        return True\n",
    "    else:\n",
    "        return False"
   ]
  },
  {
   "cell_type": "code",
   "execution_count": 27,
   "metadata": {},
   "outputs": [],
   "source": [
    "def verifica_se_letra(character : str):\n",
    "    \n",
    "    if (character in string.ascii_lowercase) or (character in string.ascii_uppercase):\n",
    "        return True\n",
    "    else:\n",
    "        return False"
   ]
  },
  {
   "cell_type": "code",
   "execution_count": 28,
   "metadata": {},
   "outputs": [],
   "source": [
    "def verifica_existencia_caractere(character : str):\n",
    "    if (character != None) and not(character.isspace()):\n",
    "        return True\n",
    "    else:\n",
    "        return False"
   ]
  },
  {
   "cell_type": "code",
   "execution_count": 29,
   "metadata": {},
   "outputs": [],
   "source": [
    "palavras_reservadas = ['inicio', 'varinicio', 'varfim', 'escreva', 'leia', \n",
    "                      'se', 'entao', 'fimse', 'fim', 'inteiro', 'literal', 'real']"
   ]
  },
  {
   "cell_type": "code",
   "execution_count": 30,
   "metadata": {},
   "outputs": [],
   "source": [
    "indice_tabela = {'D':0, '\\\"':1, 'L':2, '{':3}"
   ]
  },
  {
   "cell_type": "code",
   "execution_count": 31,
   "metadata": {},
   "outputs": [
    {
     "data": {
      "text/plain": [
       "1"
      ]
     },
     "execution_count": 31,
     "metadata": {},
     "output_type": "execute_result"
    }
   ],
   "source": [
    "indice_tabela['\"']"
   ]
  },
  {
   "cell_type": "code",
   "execution_count": null,
   "metadata": {},
   "outputs": [],
   "source": []
  },
  {
   "cell_type": "code",
   "execution_count": null,
   "metadata": {},
   "outputs": [],
   "source": []
  },
  {
   "cell_type": "code",
   "execution_count": 32,
   "metadata": {},
   "outputs": [],
   "source": [
    "def realiza_mudanca_de_estado(estado_atual, character : str):\n",
    "    character_index = character\n",
    "\n",
    "    if verifica_digito(character):\n",
    "        character_index = 'D'\n",
    "\n",
    "    if verifica_se_letra(character):\n",
    "        character_index  = 'L'\n",
    "        \n",
    "    return tabela_de_estados[estado_atual][indice_tabela[character_index]]"
   ]
  },
  {
   "cell_type": "code",
   "execution_count": 33,
   "metadata": {},
   "outputs": [],
   "source": [
    "class Token():\n",
    "    def __init__(self, classe : str, lexema : str, tipo : str) -> None:\n",
    "        self.classe = classe\n",
    "        self.lexema = lexema\n",
    "        self.tipo = tipo\n",
    "    \n",
    "    def __str__(self) -> str:\n",
    "        return f\"Classe: {self.classe}, Lexema: {self.lexema}, Tipo: {self.tipo}\"\n",
    "    def __repr__(self) -> str:\n",
    "        return f\"Classe: {self.classe}, Lexema: {self.lexema}, Tipo: {self.tipo}\""
   ]
  },
  {
   "cell_type": "code",
   "execution_count": 34,
   "metadata": {},
   "outputs": [],
   "source": [
    "x = Token(classe = \"Qualquer merda\", lexema = \"Nem sei o que é\", tipo = \"2\")"
   ]
  },
  {
   "cell_type": "code",
   "execution_count": 57,
   "metadata": {},
   "outputs": [],
   "source": [
    "\n",
    "from tabela_de_estados import TabelaDeEstados\n",
    "from Tabela_de_Simbolos import Tabela_de_Simbolos\n",
    "from Token import Token\n",
    "\n",
    "class Scanner:\n",
    "  def __init__(self, codigoFonte):\n",
    "    self.numero_da_coluna = 0\n",
    "    self.numero_da_linha = 0\n",
    "    self.codigoFonte = codigoFonte\n",
    "    self.tamanhoDoCodigo = len(codigoFonte)\n",
    "    self.tamanhoDaLinha = len(codigoFonte[self.numero_da_linha])\n",
    "    self.lista_de_textos = []\n",
    "    self.lexema = ''\n",
    "    self.Tabela_de_Simbolos = Tabela_de_Simbolos()\n",
    "    self.arrayParaIdentificarColuna = []\n",
    "\n",
    "\n",
    "  def scanner(self, tabelaEstados: TabelaDeEstados, arrayDeCaracteres: list[str]):\n",
    "    # print('CODIGO: ', arrayDeCaracteres)\n",
    "    # print('CODIGO / LEXEMA: ', self.lexema)\n",
    "    print('arrayParaIdentificarColuna: ', self.arrayParaIdentificarColuna)\n",
    "\n",
    "    while(arrayDeCaracteres):\n",
    "      char = arrayDeCaracteres[0]\n",
    "      entrada = tabelaEstados.verificaTipoCaractere(char).strip()\n",
    "      if(entrada == '$'):\n",
    "        if(tabelaEstados.verificarSeEstaEmEstadoFinal()):\n",
    "          # Adiciona penúltimo token na tabela de símbolos\n",
    "          #self.Tabela_de_Simbolos.inserir_token(self.Tabela_de_Simbolos, \n",
    "          #                            token=Token(classe = tabelaEstados.retornaClasse(), \n",
    "          #                                        lexema = self.lexema, \n",
    "          #                                        tipo = tabelaEstados.retornaTipo()))\n",
    "          print('Classe: ', tabelaEstados.retornaClasse())\n",
    "          print('Lexema: ', self.lexema)\n",
    "          print('Tipo: ', tabelaEstados.retornaTipo())\n",
    "          #self.Tabela_de_Simbolos.inserir_token(self.Tabela_de_Simbolos, token=Token(classe='EOF', lexema='EOF',tipo='NULO'))\n",
    "          print('Fim de arquivo - Token EOF ')\n",
    "          arrayDeCaracteres = []\n",
    "          tabelaEstados.estado_atual = 0\n",
    "          self.lexema = ''\n",
    "          # Adiciona último token na tabela de símbolos Token(EOF)\n",
    "        else:\n",
    "          print('LEXEMA 1: ', lexema)\n",
    "          tabelaEstados.lancarErro(self.numero_da_linha)\n",
    "          arrayDeCaracteres.remove(char)\n",
    "          self.lexema = ''\n",
    "      elif (tabelaEstados.verificarSeEntradaPertenceAoAlfabeto(entrada)):\n",
    "        print('ESTADO ATUAL: ', tabelaEstados.estado_atual)\n",
    "        if(tabelaEstados.verificarSeProximoEstadoEValido(entrada)):\n",
    "          self.lexema = self.lexema + char.strip()\n",
    "          arrayDeCaracteres.remove(char)\n",
    "          self.scanner(tabelaEstados, arrayDeCaracteres)\n",
    "        elif (tabelaEstados.verificarSeEstaEmEstadoFinal()):\n",
    "          #self.Tabela_de_Simbolos.inserir_token(self.Tabela_de_Simbolos, \n",
    "          #                                      token=Token(classe = tabelaEstados.retornaClasse(), \n",
    "          #                                                  lexema = self.lexema, \n",
    "          #                                                  tipo = tabelaEstados.retornaTipo()))\n",
    "          print('Classe: ', tabelaEstados.retornaClasse())\n",
    "          print('Lexema: ', self.lexema)\n",
    "          print('Tipo: ', tabelaEstados.retornaTipo())\n",
    "          tabelaEstados.estado_atual = 0\n",
    "          self.lexema = ''\n",
    "          # Adiciona token na tabela de símbolos\n",
    "        else:\n",
    "          print('LEXEMA 2: ', self.lexema)\n",
    "          tabelaEstados.lancarErro(self.numero_da_linha)\n",
    "          arrayDeCaracteres.remove(char)\n",
    "          self.lexema = ''\n",
    "      elif(tabelaEstados.entradaVazia(char)):\n",
    "        arrayDeCaracteres.remove(char)\n",
    "        print('ENTRADA VAZIA')\n",
    "        continue\n",
    "      else:\n",
    "        self.numero_da_coluna = self.arrayParaIdentificarColuna.index(char) + 1\n",
    "        \n",
    "        print('ERRO LÉXICO – Caracter inválido, linha {}, coluna {}'.format(self.numero_da_linha, self.numero_da_coluna) )\n",
    "        self.lexema = ''\n",
    "        arrayDeCaracteres.remove(char)\n",
    "        tabelaEstados.estado_atual = 0\n",
    "\n",
    "\n",
    "  def limpa_codigo(self, codigoFonteFormatado):\n",
    "    codigo_final = []\n",
    "    for line in codigoFonteFormatado:\n",
    "        for caractere in line:\n",
    "            codigo_final.append(caractere)\n",
    "    return codigo_final\n",
    "\n",
    "  def scannerMain(self, tabelaEstados: TabelaDeEstados, codigoFonte):\n",
    "    for linha in codigoFonte:\n",
    "      arrayDeCaracteres = self.limpa_codigo(linha)\n",
    "      self.arrayParaIdentificarColuna = arrayDeCaracteres.copy()\n",
    "\n",
    "      print('-'*30)\n",
    "      self.numero_da_linha += 1\n",
    "      print('Linha: ', linha)\n",
    "      print('NUMERO LINHA: ', self.numero_da_linha)\n",
    "      self.scanner(tabelaEstados, arrayDeCaracteres)\n"
   ]
  },
  {
   "cell_type": "code",
   "execution_count": 59,
   "metadata": {},
   "outputs": [
    {
     "data": {
      "text/plain": [
       "['@inicio ',\n",
       " 'Ini@cio',\n",
       " '\"Arroz ',\n",
       " '9E-6',\n",
       " '9.E6',\n",
       " '10.0',\n",
       " '{Asds}',\n",
       " '{Assdf',\n",
       " '()']"
      ]
     },
     "execution_count": 59,
     "metadata": {},
     "output_type": "execute_result"
    }
   ],
   "source": [
    "arquivo = open(\"teste_avancado.txt\", \"r\")\n",
    "codigoFonte = arquivo.readlines()\n",
    "\n",
    "def limpa_codigo(codigoFonte):\n",
    "  novo_codigo = []\n",
    "  for i in codigoFonte:\n",
    "    novo_codigo.append(i[:][:-1])\n",
    "  return novo_codigo\n",
    "  \n",
    "codigoFormatado = limpa_codigo(codigoFonte)\n",
    "\n",
    "\n",
    "\n",
    "codigoFormatado"
   ]
  },
  {
   "cell_type": "code",
   "execution_count": 58,
   "metadata": {},
   "outputs": [
    {
     "name": "stdout",
     "output_type": "stream",
     "text": [
      "------------------------------\n",
      "Linha:  @inicio \n",
      "NUMERO LINHA:  1\n",
      "arrayParaIdentificarColuna:  ['@', 'i', 'n', 'i', 'c', 'i', 'o', ' ']\n",
      "ERRO LÉXICO – Caracter inválido, linha 1, coluna 1\n",
      "ESTADO ATUAL:  0\n",
      "arrayParaIdentificarColuna:  ['@', 'i', 'n', 'i', 'c', 'i', 'o', ' ']\n",
      "ESTADO ATUAL:  10\n",
      "arrayParaIdentificarColuna:  ['@', 'i', 'n', 'i', 'c', 'i', 'o', ' ']\n",
      "ESTADO ATUAL:  11\n",
      "arrayParaIdentificarColuna:  ['@', 'i', 'n', 'i', 'c', 'i', 'o', ' ']\n",
      "ESTADO ATUAL:  11\n",
      "arrayParaIdentificarColuna:  ['@', 'i', 'n', 'i', 'c', 'i', 'o', ' ']\n",
      "ESTADO ATUAL:  11\n",
      "arrayParaIdentificarColuna:  ['@', 'i', 'n', 'i', 'c', 'i', 'o', ' ']\n",
      "ESTADO ATUAL:  11\n",
      "arrayParaIdentificarColuna:  ['@', 'i', 'n', 'i', 'c', 'i', 'o', ' ']\n",
      "ENTRADA VAZIA\n",
      "------------------------------\n",
      "Linha:  Ini@cio\n",
      "NUMERO LINHA:  2\n",
      "arrayParaIdentificarColuna:  ['I', 'n', 'i', '@', 'c', 'i', 'o']\n",
      "ESTADO ATUAL:  11\n",
      "arrayParaIdentificarColuna:  ['I', 'n', 'i', '@', 'c', 'i', 'o']\n",
      "ESTADO ATUAL:  11\n",
      "arrayParaIdentificarColuna:  ['I', 'n', 'i', '@', 'c', 'i', 'o']\n",
      "ESTADO ATUAL:  11\n",
      "arrayParaIdentificarColuna:  ['I', 'n', 'i', '@', 'c', 'i', 'o']\n",
      "ERRO LÉXICO – Caracter inválido, linha 2, coluna 4\n",
      "ESTADO ATUAL:  0\n",
      "arrayParaIdentificarColuna:  ['I', 'n', 'i', '@', 'c', 'i', 'o']\n",
      "ESTADO ATUAL:  10\n",
      "arrayParaIdentificarColuna:  ['I', 'n', 'i', '@', 'c', 'i', 'o']\n",
      "ESTADO ATUAL:  11\n",
      "arrayParaIdentificarColuna:  ['I', 'n', 'i', '@', 'c', 'i', 'o']\n",
      "------------------------------\n",
      "Linha:  \"Arroz \n",
      "NUMERO LINHA:  3\n",
      "arrayParaIdentificarColuna:  ['\"', 'A', 'r', 'r', 'o', 'z', ' ']\n",
      "ESTADO ATUAL:  11\n",
      "Classe:  id\n",
      "Lexema:  cio\n",
      "Tipo:  NULO\n",
      "ESTADO ATUAL:  0\n",
      "arrayParaIdentificarColuna:  ['\"', 'A', 'r', 'r', 'o', 'z', ' ']\n",
      "ESTADO ATUAL:  7\n",
      "arrayParaIdentificarColuna:  ['\"', 'A', 'r', 'r', 'o', 'z', ' ']\n",
      "ESTADO ATUAL:  8\n",
      "arrayParaIdentificarColuna:  ['\"', 'A', 'r', 'r', 'o', 'z', ' ']\n",
      "ESTADO ATUAL:  8\n",
      "arrayParaIdentificarColuna:  ['\"', 'A', 'r', 'r', 'o', 'z', ' ']\n",
      "ESTADO ATUAL:  8\n",
      "arrayParaIdentificarColuna:  ['\"', 'A', 'r', 'r', 'o', 'z', ' ']\n",
      "ESTADO ATUAL:  8\n",
      "arrayParaIdentificarColuna:  ['\"', 'A', 'r', 'r', 'o', 'z', ' ']\n",
      "ENTRADA VAZIA\n",
      "------------------------------\n",
      "Linha:  9E-6\n",
      "NUMERO LINHA:  4\n",
      "arrayParaIdentificarColuna:  ['9', 'E', '-', '6']\n",
      "ESTADO ATUAL:  8\n",
      "arrayParaIdentificarColuna:  ['9', 'E', '-', '6']\n",
      "ESTADO ATUAL:  8\n",
      "LEXEMA 2:  \"Arroz9\n",
      "ERRO LÉXICO – Literal incompleto linha 4\n",
      "ESTADO ATUAL:  0\n",
      "arrayParaIdentificarColuna:  ['9', 'E', '-', '6']\n",
      "ESTADO ATUAL:  18\n",
      "Classe:  OPA\n",
      "Lexema:  -\n",
      "Tipo:  NULO\n",
      "ESTADO ATUAL:  0\n",
      "arrayParaIdentificarColuna:  ['9', 'E', '-', '6']\n",
      "------------------------------\n",
      "Linha:  9.E6\n",
      "NUMERO LINHA:  5\n",
      "arrayParaIdentificarColuna:  ['9', '.', 'E', '6']\n",
      "ESTADO ATUAL:  1\n",
      "arrayParaIdentificarColuna:  ['9', '.', 'E', '6']\n",
      "ESTADO ATUAL:  1\n",
      "arrayParaIdentificarColuna:  ['9', '.', 'E', '6']\n",
      "ESTADO ATUAL:  2\n",
      "LEXEMA 2:  69.\n",
      "ERRO LÉXICO – Num incompleto linha 5\n",
      "ESTADO ATUAL:  0\n",
      "arrayParaIdentificarColuna:  ['9', '.', 'E', '6']\n",
      "------------------------------\n",
      "Linha:  10.0\n",
      "NUMERO LINHA:  6\n",
      "arrayParaIdentificarColuna:  ['1', '0', '.', '0']\n",
      "ESTADO ATUAL:  1\n",
      "arrayParaIdentificarColuna:  ['1', '0', '.', '0']\n",
      "ESTADO ATUAL:  1\n",
      "arrayParaIdentificarColuna:  ['1', '0', '.', '0']\n",
      "ESTADO ATUAL:  1\n",
      "arrayParaIdentificarColuna:  ['1', '0', '.', '0']\n",
      "ESTADO ATUAL:  2\n",
      "arrayParaIdentificarColuna:  ['1', '0', '.', '0']\n",
      "------------------------------\n",
      "Linha:  {Asds}\n",
      "NUMERO LINHA:  7\n",
      "arrayParaIdentificarColuna:  ['{', 'A', 's', 'd', 's', '}']\n",
      "ESTADO ATUAL:  3\n",
      "Classe:  Num\n",
      "Lexema:  610.0\n",
      "Tipo:  real\n",
      "ESTADO ATUAL:  0\n",
      "arrayParaIdentificarColuna:  ['{', 'A', 's', 'd', 's', '}']\n",
      "ESTADO ATUAL:  12\n",
      "arrayParaIdentificarColuna:  ['{', 'A', 's', 'd', 's', '}']\n",
      "ESTADO ATUAL:  13\n",
      "arrayParaIdentificarColuna:  ['{', 'A', 's', 'd', 's', '}']\n",
      "ESTADO ATUAL:  13\n",
      "arrayParaIdentificarColuna:  ['{', 'A', 's', 'd', 's', '}']\n",
      "ESTADO ATUAL:  13\n",
      "arrayParaIdentificarColuna:  ['{', 'A', 's', 'd', 's', '}']\n",
      "ESTADO ATUAL:  13\n",
      "arrayParaIdentificarColuna:  ['{', 'A', 's', 'd', 's', '}']\n",
      "------------------------------\n",
      "Linha:  {Assdf\n",
      "NUMERO LINHA:  8\n",
      "arrayParaIdentificarColuna:  ['{', 'A', 's', 's', 'd', 'f']\n",
      "ESTADO ATUAL:  14\n",
      "Classe:  Comentário\n",
      "Lexema:  {Asds}\n",
      "Tipo:  NULO\n",
      "ESTADO ATUAL:  0\n",
      "arrayParaIdentificarColuna:  ['{', 'A', 's', 's', 'd', 'f']\n",
      "ESTADO ATUAL:  12\n",
      "arrayParaIdentificarColuna:  ['{', 'A', 's', 's', 'd', 'f']\n",
      "ESTADO ATUAL:  13\n",
      "arrayParaIdentificarColuna:  ['{', 'A', 's', 's', 'd', 'f']\n",
      "ESTADO ATUAL:  13\n",
      "arrayParaIdentificarColuna:  ['{', 'A', 's', 's', 'd', 'f']\n",
      "ESTADO ATUAL:  13\n",
      "arrayParaIdentificarColuna:  ['{', 'A', 's', 's', 'd', 'f']\n",
      "ESTADO ATUAL:  13\n",
      "arrayParaIdentificarColuna:  ['{', 'A', 's', 's', 'd', 'f']\n",
      "------------------------------\n",
      "Linha:  ()\n",
      "NUMERO LINHA:  9\n",
      "arrayParaIdentificarColuna:  ['(', ')']\n",
      "ESTADO ATUAL:  13\n",
      "arrayParaIdentificarColuna:  ['(', ')']\n",
      "ESTADO ATUAL:  13\n",
      "arrayParaIdentificarColuna:  ['(', ')']\n"
     ]
    }
   ],
   "source": [
    "tabelaDeEstados = TabelaDeEstados()\n",
    "# tabelaDeEstados.entradaVazia('     s     ')\n",
    "teste = Scanner(codigoFormatado)\n",
    "\n",
    "# array = [' ', ' ', 'a']\n",
    "# teste.limpa_codigo(teste.codigoFontePalavra, array)\n",
    "teste.scannerMain(tabelaDeEstados, codigoFormatado)"
   ]
  },
  {
   "cell_type": "code",
   "execution_count": 25,
   "metadata": {},
   "outputs": [
    {
     "data": {
      "text/plain": [
       "2"
      ]
     },
     "execution_count": 25,
     "metadata": {},
     "output_type": "execute_result"
    }
   ],
   "source": [
    "teste_array = ['@', 'i', 'n', 'i', 'c', 'i', 'o', ' ']\n",
    "\n",
    "teste_array.index('n')"
   ]
  }
 ],
 "metadata": {
  "kernelspec": {
   "display_name": "Python 3",
   "language": "python",
   "name": "python3"
  },
  "language_info": {
   "codemirror_mode": {
    "name": "ipython",
    "version": 3
   },
   "file_extension": ".py",
   "mimetype": "text/x-python",
   "name": "python",
   "nbconvert_exporter": "python",
   "pygments_lexer": "ipython3",
   "version": "3.10.1"
  },
  "orig_nbformat": 4,
  "vscode": {
   "interpreter": {
    "hash": "18ec32658ef92bbbbefc98c3c8471b646fe2ec18f116030ca69b0fc2fc383acb"
   }
  }
 },
 "nbformat": 4,
 "nbformat_minor": 2
}
