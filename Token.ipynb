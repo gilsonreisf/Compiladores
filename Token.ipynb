{
  "cells": [
    {
      "cell_type": "code",
      "execution_count": 1,
      "metadata": {
        "id": "5pzqxDpFjX3R"
      },
      "outputs": [],
      "source": [
        "class Token:\n",
        "    def __init__(self, classe: str, lexema: str, tipo: str):\n",
        "        self.classe = classe\n",
        "        self.lexema = lexema\n",
        "        self.tipo = tipo\n",
        "\n",
        "    def __str__(self) -> str:\n",
        "        return f\"Classe: {self.classe}, Lexema: {self.lexema}, Tipo: {self.tipo}\"\n",
        "        \n",
        "    def __repr__(self) -> str:\n",
        "        return f\"Classe: {self.classe}, Lexema: {self.lexema}, Tipo: {self.tipo}\""
      ]
    },
    {
      "cell_type": "code",
      "execution_count": 4,
      "metadata": {},
      "outputs": [],
      "source": [
        "tk = Token(classe='ClasseToken', lexema='oi', tipo='Tipo1')"
      ]
    },
    {
      "cell_type": "code",
      "execution_count": 5,
      "metadata": {},
      "outputs": [
        {
          "data": {
            "text/plain": [
              "Classe: ClasseToken, Lexema: oi, Tipo: Tipo1"
            ]
          },
          "execution_count": 5,
          "metadata": {},
          "output_type": "execute_result"
        }
      ],
      "source": [
        "tk"
      ]
    },
    {
      "cell_type": "code",
      "execution_count": 6,
      "metadata": {},
      "outputs": [
        {
          "name": "stdout",
          "output_type": "stream",
          "text": [
            "Classe: ClasseToken, Lexema: oi, Tipo: Tipo1\n"
          ]
        }
      ],
      "source": [
        "print(tk)"
      ]
    }
  ],
  "metadata": {
    "colab": {
      "authorship_tag": "ABX9TyMLwobEkL8/pf1uSmbtXmH3",
      "provenance": []
    },
    "kernelspec": {
      "display_name": "base",
      "language": "python",
      "name": "python3"
    },
    "language_info": {
      "codemirror_mode": {
        "name": "ipython",
        "version": 3
      },
      "file_extension": ".py",
      "mimetype": "text/x-python",
      "name": "python",
      "nbconvert_exporter": "python",
      "pygments_lexer": "ipython3",
      "version": "3.9.7"
    },
    "vscode": {
      "interpreter": {
        "hash": "ad2bdc8ecc057115af97d19610ffacc2b4e99fae6737bb82f5d7fb13d2f2c186"
      }
    }
  },
  "nbformat": 4,
  "nbformat_minor": 0
}
