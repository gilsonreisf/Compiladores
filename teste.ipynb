{
 "cells": [
  {
   "cell_type": "code",
   "execution_count": 1,
   "metadata": {},
   "outputs": [
    {
     "name": "stdout",
     "output_type": "stream",
     "text": [
      "Produção:  TIPO -> literal\n",
      "Produção:  L -> id\n",
      "Produção:  D -> TIPO L pt_v\n",
      "Produção:  LV -> varfim pt_v\n",
      "Produção:  LV -> D LV\n",
      "Produção:  V -> varinicio LV\n",
      "Produção:  OPRD -> id\n",
      "############### Phrase Recovery Mode: linha 4, coluna: 7\n",
      "*************** Panic Mode: linha 4, coluna: 7\n",
      "******* Sucesso no panic mode:  s46\n",
      "Produção:  OPRD -> num\n",
      "Produção:  LD -> OPRD opa OPRD\n",
      "Produção:  CMD -> id atr LD pt_v\n",
      "Produção:  A -> fim\n",
      "Produção:  A -> CMD A\n",
      "Produção:  P -> inicio V A\n",
      "ACCEPT\n"
     ]
    }
   ],
   "source": [
    "from parser_2 import Parser2\n",
    "\n",
    "\n",
    "def main():\n",
    "  parser = Parser2()\n",
    "  parser.PARSER()\n",
    "  \n",
    "\n",
    "if __name__ == \"__main__\":\n",
    "  main()"
   ]
  },
  {
   "cell_type": "code",
   "execution_count": 6,
   "metadata": {},
   "outputs": [
    {
     "name": "stdout",
     "output_type": "stream",
     "text": [
      "No while:  1\n",
      "No while:  2\n",
      "No while:  3\n",
      "No while:  4\n",
      "No while:  5\n",
      "No while:  6\n",
      "Sair do while\n"
     ]
    },
    {
     "data": {
      "text/plain": [
       "6"
      ]
     },
     "execution_count": 6,
     "metadata": {},
     "output_type": "execute_result"
    }
   ],
   "source": [
    "lista = [1, 2, 3, 4, 5, 6, 7, 8, 9, 10]\n",
    "\n",
    "def teste(lista): \n",
    "  index = 0\n",
    "  while True:\n",
    "    numero = lista[index] \n",
    "    index += 1\n",
    "    print('No while: ', numero)\n",
    "    if(numero == 6):\n",
    "      print('Sair do while')\n",
    "      return numero\n",
    "\n",
    "teste(lista)"
   ]
  }
 ],
 "metadata": {
  "kernelspec": {
   "display_name": "Python 3",
   "language": "python",
   "name": "python3"
  },
  "language_info": {
   "codemirror_mode": {
    "name": "ipython",
    "version": 3
   },
   "file_extension": ".py",
   "mimetype": "text/x-python",
   "name": "python",
   "nbconvert_exporter": "python",
   "pygments_lexer": "ipython3",
   "version": "3.11.1 (tags/v3.11.1:a7a450f, Dec  6 2022, 19:58:39) [MSC v.1934 64 bit (AMD64)]"
  },
  "orig_nbformat": 4,
  "vscode": {
   "interpreter": {
    "hash": "8a5ac1e257a3445902302263f7bb85e3e096a16fcac665c553104f20e5a7c6c3"
   }
  }
 },
 "nbformat": 4,
 "nbformat_minor": 2
}
