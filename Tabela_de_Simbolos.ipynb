{
  "cells": [
    {
      "cell_type": "code",
      "execution_count": 7,
      "metadata": {
        "id": "9KwG7N3mle2W"
      },
      "outputs": [],
      "source": [
        "from Token import Token"
      ]
    },
    {
      "cell_type": "code",
      "execution_count": 8,
      "metadata": {
        "id": "PRP9-PF1k9lu"
      },
      "outputs": [],
      "source": [
        "class Tabela_de_Simbolos:\n",
        "    def __init__(self):\n",
        "      self.Tabela_de_Simbolos = {\n",
        "          'inicio': {'classe':'inicio', 'lexema':'inicio', 'tipo':'inicio'},\n",
        "          'varinicio': {'classe':'varinicio', 'lexema':'varinicio', 'tipo':'varinicio'},\n",
        "          'varfim': {'classe':'varfim', 'lexema':'varfim', 'tipo':'varfim'},\n",
        "          'escreva': {'classe':'escreva', 'lexema':'escreva', 'tipo':'escreva'},\n",
        "          'leia': {'classe':'leia', 'lexema':'leia', 'tipo':'leia'},\n",
        "          'se': {'classe':'se', 'lexema':'se', 'tipo':'se'},\n",
        "          'entao': {'classe':'entao', 'lexema':'entao', 'tipo':'entao'},\n",
        "          'fimse': {'classe':'fimse', 'lexema':'fimse', 'tipo':'fimse'},\n",
        "          'fim': {'classe':'fim', 'lexema':'fim', 'tipo':'fim'},\n",
        "          'inteiro': {'classe':'inteiro', 'lexema':'inteiro', 'tipo':'inteiro'},\n",
        "          'literal': {'classe':'literal', 'lexema':'literal', 'tipo':'literal'},\n",
        "          'real': {'classe':'real', 'lexema':'real', 'tipo':'real'}\n",
        "        }"
      ]
    },
    {
      "cell_type": "code",
      "execution_count": 13,
      "metadata": {
        "id": "qxYlBOXblAqI"
      },
      "outputs": [],
      "source": [
        "def buscar_token(self, token:Token):\n",
        "        for t in self.tabela:\n",
        "            if(t.lexema == token.lexema):\n",
        "                return t\n",
        "        return None\n",
        "      \n",
        "\n",
        "def inserir_token(self, token:Token):\n",
        "        token_encontrado = self.buscar_token(token)\n",
        "        if(token_encontrado is None):\n",
        "            if(token.classe == \"id\"):\n",
        "                self.tabela.append(token)\n",
        "            return token\n",
        "        else:\n",
        "            return token_encontrado\n",
        "\n",
        "def atualizar_token(self, token: Token):\n",
        "      if(token.classe == \"id\"):\n",
        "            token_tabela_simbolos = self.buscar_token(token)\n",
        "            if(token_tabela_simbolos):\n",
        "                self.tabela.remove(token_tabela_simbolos)\n",
        "                self.tabela.append(token)  \n",
        "\n",
        "def imprimir_tabela(self):\n",
        "        for i in self.tabela:\n",
        "            print(i)\n",
        "    "
      ]
    },
    {
      "cell_type": "code",
      "execution_count": 19,
      "metadata": {},
      "outputs": [],
      "source": [
        "tabela = Tabela_de_Simbolos()"
      ]
    },
    {
      "cell_type": "code",
      "execution_count": 24,
      "metadata": {},
      "outputs": [
        {
          "ename": "AttributeError",
          "evalue": "'Tabela_de_Simbolos' object has no attribute 'tabela'",
          "output_type": "error",
          "traceback": [
            "\u001b[1;31m---------------------------------------------------------------------------\u001b[0m",
            "\u001b[1;31mAttributeError\u001b[0m                            Traceback (most recent call last)",
            "\u001b[1;32m~\\AppData\\Local\\Temp/ipykernel_6516/1045820760.py\u001b[0m in \u001b[0;36m<module>\u001b[1;34m\u001b[0m\n\u001b[1;32m----> 1\u001b[1;33m \u001b[0mimprimir_tabela\u001b[0m\u001b[1;33m(\u001b[0m\u001b[0mtabela\u001b[0m\u001b[1;33m)\u001b[0m\u001b[1;33m\u001b[0m\u001b[1;33m\u001b[0m\u001b[0m\n\u001b[0m",
            "\u001b[1;32m~\\AppData\\Local\\Temp/ipykernel_6516/1012794616.py\u001b[0m in \u001b[0;36mimprimir_tabela\u001b[1;34m(self)\u001b[0m\n\u001b[0;32m     23\u001b[0m \u001b[1;33m\u001b[0m\u001b[0m\n\u001b[0;32m     24\u001b[0m \u001b[1;32mdef\u001b[0m \u001b[0mimprimir_tabela\u001b[0m\u001b[1;33m(\u001b[0m\u001b[0mself\u001b[0m\u001b[1;33m)\u001b[0m\u001b[1;33m:\u001b[0m\u001b[1;33m\u001b[0m\u001b[1;33m\u001b[0m\u001b[0m\n\u001b[1;32m---> 25\u001b[1;33m         \u001b[1;32mfor\u001b[0m \u001b[0mi\u001b[0m \u001b[1;32min\u001b[0m \u001b[0mself\u001b[0m\u001b[1;33m.\u001b[0m\u001b[0mtabela\u001b[0m\u001b[1;33m:\u001b[0m\u001b[1;33m\u001b[0m\u001b[1;33m\u001b[0m\u001b[0m\n\u001b[0m\u001b[0;32m     26\u001b[0m             \u001b[0mprint\u001b[0m\u001b[1;33m(\u001b[0m\u001b[0mi\u001b[0m\u001b[1;33m)\u001b[0m\u001b[1;33m\u001b[0m\u001b[1;33m\u001b[0m\u001b[0m\n\u001b[0;32m     27\u001b[0m \u001b[1;33m\u001b[0m\u001b[0m\n",
            "\u001b[1;31mAttributeError\u001b[0m: 'Tabela_de_Simbolos' object has no attribute 'tabela'"
          ]
        }
      ],
      "source": [
        "imprimir_tabela(tabela)"
      ]
    }
  ],
  "metadata": {
    "colab": {
      "authorship_tag": "ABX9TyMFtK5ZIj1g7ewxp/C7K16U",
      "provenance": []
    },
    "kernelspec": {
      "display_name": "base",
      "language": "python",
      "name": "python3"
    },
    "language_info": {
      "codemirror_mode": {
        "name": "ipython",
        "version": 3
      },
      "file_extension": ".py",
      "mimetype": "text/x-python",
      "name": "python",
      "nbconvert_exporter": "python",
      "pygments_lexer": "ipython3",
      "version": "3.9.7"
    },
    "vscode": {
      "interpreter": {
        "hash": "ad2bdc8ecc057115af97d19610ffacc2b4e99fae6737bb82f5d7fb13d2f2c186"
      }
    }
  },
  "nbformat": 4,
  "nbformat_minor": 0
}
