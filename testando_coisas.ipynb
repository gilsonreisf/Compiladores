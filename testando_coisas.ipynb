{
 "cells": [
  {
   "cell_type": "code",
   "execution_count": 99,
   "metadata": {},
   "outputs": [],
   "source": [
    "arquivo = open(\"teste_avancado.txt\", \"r\")\n",
    "codigoFonte = arquivo.readlines()"
   ]
  },
  {
   "cell_type": "code",
   "execution_count": 100,
   "metadata": {},
   "outputs": [
    {
     "data": {
      "text/plain": [
       "['@inicio \\n',\n",
       " 'Ini@cio\\n',\n",
       " '\"Arroz \\n',\n",
       " '9E-6\\n',\n",
       " '9.E6\\n',\n",
       " '10.0\\n',\n",
       " '{Asds}\\n',\n",
       " '{Assdf\\n',\n",
       " '() \\n',\n",
       " '...']"
      ]
     },
     "execution_count": 100,
     "metadata": {},
     "output_type": "execute_result"
    }
   ],
   "source": [
    "codigoFonte"
   ]
  },
  {
   "cell_type": "code",
   "execution_count": 101,
   "metadata": {},
   "outputs": [],
   "source": [
    "def limpa_codigo(codigoFonte):\n",
    "  novo_codigo = []\n",
    "  for i in codigoFonte:\n",
    "    novo_codigo.append(i[:][:-1])\n",
    "  return novo_codigo"
   ]
  },
  {
   "cell_type": "code",
   "execution_count": 102,
   "metadata": {},
   "outputs": [
    {
     "name": "stdout",
     "output_type": "stream",
     "text": [
      "\n",
      "\n",
      "\n",
      "\n",
      "\n",
      "\n",
      "\n",
      "\n",
      "\n",
      "\n",
      "\n",
      "\n",
      "\n",
      "\n",
      "\n",
      "\n",
      "\n",
      "\n",
      ".\n"
     ]
    }
   ],
   "source": [
    "new_code = limpa_codigo(codigoFonte)"
   ]
  },
  {
   "cell_type": "code",
   "execution_count": 129,
   "metadata": {},
   "outputs": [
    {
     "data": {
      "text/plain": [
       "['@inicio ',\n",
       " 'Ini@cio',\n",
       " '\"Arroz ',\n",
       " '9E-6',\n",
       " '9.E6',\n",
       " '10.0',\n",
       " '{Asds}',\n",
       " '{Assdf',\n",
       " '() ',\n",
       " '..']"
      ]
     },
     "execution_count": 129,
     "metadata": {},
     "output_type": "execute_result"
    }
   ],
   "source": [
    "new_code"
   ]
  },
  {
   "cell_type": "code",
   "execution_count": 130,
   "metadata": {},
   "outputs": [],
   "source": [
    "codigo_final = []\n",
    "for line in new_code:\n",
    "    for caractere in line:\n",
    "        codigo_final.append(caractere)"
   ]
  },
  {
   "cell_type": "code",
   "execution_count": 131,
   "metadata": {},
   "outputs": [
    {
     "data": {
      "text/plain": [
       "['@',\n",
       " 'i',\n",
       " 'n',\n",
       " 'i',\n",
       " 'c',\n",
       " 'i',\n",
       " 'o',\n",
       " ' ',\n",
       " 'I',\n",
       " 'n',\n",
       " 'i',\n",
       " '@',\n",
       " 'c',\n",
       " 'i',\n",
       " 'o',\n",
       " '\"',\n",
       " 'A',\n",
       " 'r',\n",
       " 'r',\n",
       " 'o',\n",
       " 'z',\n",
       " ' ',\n",
       " '9',\n",
       " 'E',\n",
       " '-',\n",
       " '6',\n",
       " '9',\n",
       " '.',\n",
       " 'E',\n",
       " '6',\n",
       " '1',\n",
       " '0',\n",
       " '.',\n",
       " '0',\n",
       " '{',\n",
       " 'A',\n",
       " 's',\n",
       " 'd',\n",
       " 's',\n",
       " '}',\n",
       " '{',\n",
       " 'A',\n",
       " 's',\n",
       " 's',\n",
       " 'd',\n",
       " 'f',\n",
       " '(',\n",
       " ')',\n",
       " ' ',\n",
       " '.',\n",
       " '.']"
      ]
     },
     "execution_count": 131,
     "metadata": {},
     "output_type": "execute_result"
    }
   ],
   "source": [
    "codigo_final"
   ]
  },
  {
   "cell_type": "code",
   "execution_count": 104,
   "metadata": {},
   "outputs": [
    {
     "data": {
      "text/plain": [
       "'@inicio '"
      ]
     },
     "execution_count": 104,
     "metadata": {},
     "output_type": "execute_result"
    }
   ],
   "source": [
    "      #[LINHA][COLUNA]\n",
    "codigoFonte[0][:-1]"
   ]
  },
  {
   "cell_type": "code",
   "execution_count": 105,
   "metadata": {},
   "outputs": [],
   "source": [
    "from Tabela_de_Simbolos import Tabela_de_Simbolos"
   ]
  },
  {
   "cell_type": "code",
   "execution_count": 106,
   "metadata": {},
   "outputs": [],
   "source": [
    "minha_tabela = Tabela_de_Simbolos()"
   ]
  },
  {
   "cell_type": "code",
   "execution_count": 107,
   "metadata": {},
   "outputs": [
    {
     "name": "stdout",
     "output_type": "stream",
     "text": [
      "Classe:inicio, Lexema:inicio, Tipo:inicio\n",
      "Classe:varinicio, Lexema:varinicio, Tipo:varinicio\n",
      "Classe:varfim, Lexema:varfim, Tipo:varfim\n",
      "Classe:escreva, Lexema:escreva, Tipo:escreva\n",
      "Classe:leia, Lexema:leia, Tipo:leia\n",
      "Classe:se, Lexema:se, Tipo:se\n",
      "Classe:entao, Lexema:entao, Tipo:entao\n",
      "Classe:fimse, Lexema:fimse, Tipo:fimse\n",
      "Classe:fim, Lexema:fim, Tipo:fim\n",
      "Classe:inteiro, Lexema:inteiro, Tipo:inteiro\n",
      "Classe:literal, Lexema:literal, Tipo:literal\n",
      "Classe:real, Lexema:real, Tipo:real\n"
     ]
    }
   ],
   "source": [
    "Tabela_de_Simbolos.imprimir_tabela(minha_tabela)"
   ]
  },
  {
   "cell_type": "code",
   "execution_count": 108,
   "metadata": {},
   "outputs": [],
   "source": [
    "from Token import Token"
   ]
  },
  {
   "cell_type": "code",
   "execution_count": 109,
   "metadata": {},
   "outputs": [
    {
     "name": "stdout",
     "output_type": "stream",
     "text": [
      "Classe: real, Lexema: real, Tipo: real\n"
     ]
    }
   ],
   "source": [
    "#Tabela_de_Simbolos.buscar_token(minha_tabela, Token(classe=\"Classe_exemplo\",lexema=\"lexema_Exemplo\", tipo=\"tipo\"))\n",
    "resultado = Tabela_de_Simbolos.buscar_token(minha_tabela, Token(classe=\"real\",lexema=\"real\", tipo=\"real\"))\n",
    "print(resultado)"
   ]
  },
  {
   "cell_type": "code",
   "execution_count": 110,
   "metadata": {},
   "outputs": [
    {
     "data": {
      "text/plain": [
       "Classe: id, Lexema: felps, Tipo: gilso"
      ]
     },
     "execution_count": 110,
     "metadata": {},
     "output_type": "execute_result"
    }
   ],
   "source": [
    "Tabela_de_Simbolos.inserir_token(minha_tabela, Token(classe=\"id\",lexema=\"felps\", tipo=\"gilso\"))"
   ]
  },
  {
   "cell_type": "code",
   "execution_count": 111,
   "metadata": {},
   "outputs": [
    {
     "name": "stdout",
     "output_type": "stream",
     "text": [
      "Classe:inicio, Lexema:inicio, Tipo:inicio\n",
      "Classe:varinicio, Lexema:varinicio, Tipo:varinicio\n",
      "Classe:varfim, Lexema:varfim, Tipo:varfim\n",
      "Classe:escreva, Lexema:escreva, Tipo:escreva\n",
      "Classe:leia, Lexema:leia, Tipo:leia\n",
      "Classe:se, Lexema:se, Tipo:se\n",
      "Classe:entao, Lexema:entao, Tipo:entao\n",
      "Classe:fimse, Lexema:fimse, Tipo:fimse\n",
      "Classe:fim, Lexema:fim, Tipo:fim\n",
      "Classe:inteiro, Lexema:inteiro, Tipo:inteiro\n",
      "Classe:literal, Lexema:literal, Tipo:literal\n",
      "Classe:real, Lexema:real, Tipo:real\n",
      "Classe:id, Lexema:felps, Tipo:gilso\n"
     ]
    }
   ],
   "source": [
    "Tabela_de_Simbolos.imprimir_tabela(minha_tabela)"
   ]
  },
  {
   "cell_type": "code",
   "execution_count": 112,
   "metadata": {},
   "outputs": [],
   "source": [
    "Tabela_de_Simbolos.atualizar_token(minha_tabela, Token(classe=\"id\",lexema=\"felps\", tipo=\"felps\"))"
   ]
  },
  {
   "cell_type": "code",
   "execution_count": 113,
   "metadata": {},
   "outputs": [
    {
     "name": "stdout",
     "output_type": "stream",
     "text": [
      "Classe:inicio, Lexema:inicio, Tipo:inicio\n",
      "Classe:varinicio, Lexema:varinicio, Tipo:varinicio\n",
      "Classe:varfim, Lexema:varfim, Tipo:varfim\n",
      "Classe:escreva, Lexema:escreva, Tipo:escreva\n",
      "Classe:leia, Lexema:leia, Tipo:leia\n",
      "Classe:se, Lexema:se, Tipo:se\n",
      "Classe:entao, Lexema:entao, Tipo:entao\n",
      "Classe:fimse, Lexema:fimse, Tipo:fimse\n",
      "Classe:fim, Lexema:fim, Tipo:fim\n",
      "Classe:inteiro, Lexema:inteiro, Tipo:inteiro\n",
      "Classe:literal, Lexema:literal, Tipo:literal\n",
      "Classe:real, Lexema:real, Tipo:real\n",
      "Classe:id, Lexema:felps, Tipo:felps\n"
     ]
    }
   ],
   "source": [
    "Tabela_de_Simbolos.imprimir_tabela(minha_tabela)"
   ]
  },
  {
   "cell_type": "code",
   "execution_count": 114,
   "metadata": {},
   "outputs": [
    {
     "data": {
      "text/plain": [
       "[Classe: inicio, Lexema: inicio, Tipo: inicio,\n",
       " Classe: varinicio, Lexema: varinicio, Tipo: varinicio,\n",
       " Classe: varfim, Lexema: varfim, Tipo: varfim,\n",
       " Classe: escreva, Lexema: escreva, Tipo: escreva,\n",
       " Classe: leia, Lexema: leia, Tipo: leia,\n",
       " Classe: se, Lexema: se, Tipo: se,\n",
       " Classe: entao, Lexema: entao, Tipo: entao,\n",
       " Classe: fimse, Lexema: fimse, Tipo: fimse,\n",
       " Classe: fim, Lexema: fim, Tipo: fim,\n",
       " Classe: inteiro, Lexema: inteiro, Tipo: inteiro,\n",
       " Classe: literal, Lexema: literal, Tipo: literal,\n",
       " Classe: real, Lexema: real, Tipo: real,\n",
       " Classe: id, Lexema: felps, Tipo: felps]"
      ]
     },
     "execution_count": 114,
     "metadata": {},
     "output_type": "execute_result"
    }
   ],
   "source": [
    "minha_tabela.tabela"
   ]
  },
  {
   "cell_type": "code",
   "execution_count": 115,
   "metadata": {},
   "outputs": [
    {
     "data": {
      "text/plain": [
       "Classe: id, Lexema: gilso, Tipo: gilso"
      ]
     },
     "execution_count": 115,
     "metadata": {},
     "output_type": "execute_result"
    }
   ],
   "source": [
    "Token(classe=\"id\",lexema=\"gilso\", tipo=\"gilso\")"
   ]
  },
  {
   "cell_type": "code",
   "execution_count": 116,
   "metadata": {},
   "outputs": [],
   "source": [
    "Tabela_de_Simbolos.atualizar_token(minha_tabela, Token(classe=\"id\",lexema=\"gilso\", tipo=\"gilso\"))"
   ]
  },
  {
   "cell_type": "code",
   "execution_count": 117,
   "metadata": {},
   "outputs": [
    {
     "data": {
      "text/plain": [
       "[Classe: inicio, Lexema: inicio, Tipo: inicio,\n",
       " Classe: varinicio, Lexema: varinicio, Tipo: varinicio,\n",
       " Classe: varfim, Lexema: varfim, Tipo: varfim,\n",
       " Classe: escreva, Lexema: escreva, Tipo: escreva,\n",
       " Classe: leia, Lexema: leia, Tipo: leia,\n",
       " Classe: se, Lexema: se, Tipo: se,\n",
       " Classe: entao, Lexema: entao, Tipo: entao,\n",
       " Classe: fimse, Lexema: fimse, Tipo: fimse,\n",
       " Classe: fim, Lexema: fim, Tipo: fim,\n",
       " Classe: inteiro, Lexema: inteiro, Tipo: inteiro,\n",
       " Classe: literal, Lexema: literal, Tipo: literal,\n",
       " Classe: real, Lexema: real, Tipo: real,\n",
       " Classe: id, Lexema: felps, Tipo: felps]"
      ]
     },
     "execution_count": 117,
     "metadata": {},
     "output_type": "execute_result"
    }
   ],
   "source": [
    "minha_tabela.tabela"
   ]
  },
  {
   "cell_type": "code",
   "execution_count": 118,
   "metadata": {},
   "outputs": [
    {
     "data": {
      "text/plain": [
       "[1, 2, 3, 4, 6]"
      ]
     },
     "execution_count": 118,
     "metadata": {},
     "output_type": "execute_result"
    }
   ],
   "source": [
    "minha_lista = [1,2,3,4,5,6]\n",
    "minha_lista.remove(5)\n",
    "minha_lista"
   ]
  },
  {
   "cell_type": "code",
   "execution_count": 119,
   "metadata": {},
   "outputs": [
    {
     "data": {
      "text/plain": [
       "[1, 2, 3, 4, 6, 5]"
      ]
     },
     "execution_count": 119,
     "metadata": {},
     "output_type": "execute_result"
    }
   ],
   "source": [
    "minha_lista.append(5)\n",
    "minha_lista"
   ]
  },
  {
   "cell_type": "code",
   "execution_count": 120,
   "metadata": {},
   "outputs": [
    {
     "data": {
      "text/plain": [
       "[1, 2, 3, 4, 6]"
      ]
     },
     "execution_count": 120,
     "metadata": {},
     "output_type": "execute_result"
    }
   ],
   "source": [
    "minha_lista.pop()\n",
    "minha_lista"
   ]
  },
  {
   "cell_type": "code",
   "execution_count": 121,
   "metadata": {},
   "outputs": [],
   "source": [
    "from scanner import Scanner\n",
    "from tabela_de_estados import TabelaDeEstados"
   ]
  },
  {
   "cell_type": "code",
   "execution_count": 122,
   "metadata": {},
   "outputs": [
    {
     "ename": "TypeError",
     "evalue": "verificaTipoCaractere() missing 1 required positional argument: 'char'",
     "output_type": "error",
     "traceback": [
      "\u001b[1;31m---------------------------------------------------------------------------\u001b[0m",
      "\u001b[1;31mTypeError\u001b[0m                                 Traceback (most recent call last)",
      "\u001b[1;32m~\\AppData\\Local\\Temp/ipykernel_20284/3650147880.py\u001b[0m in \u001b[0;36m<module>\u001b[1;34m\u001b[0m\n\u001b[1;32m----> 1\u001b[1;33m \u001b[0mScanner\u001b[0m\u001b[1;33m(\u001b[0m\u001b[0mcodigoFonte\u001b[0m\u001b[1;33m)\u001b[0m\u001b[1;33m.\u001b[0m\u001b[0mscanner\u001b[0m\u001b[1;33m(\u001b[0m\u001b[0mTabelaDeEstados\u001b[0m\u001b[1;33m)\u001b[0m\u001b[1;33m\u001b[0m\u001b[1;33m\u001b[0m\u001b[0m\n\u001b[0m",
      "\u001b[1;32mc:\\Users\\Felipe\\Documents\\Compiladores\\scanner.py\u001b[0m in \u001b[0;36mscanner\u001b[1;34m(self, tabelaEstados)\u001b[0m\n\u001b[0;32m     22\u001b[0m     \u001b[1;32mwhile\u001b[0m\u001b[1;33m(\u001b[0m\u001b[0mself\u001b[0m\u001b[1;33m.\u001b[0m\u001b[0mcodigoFonte\u001b[0m\u001b[1;33m)\u001b[0m\u001b[1;33m:\u001b[0m\u001b[1;33m\u001b[0m\u001b[1;33m\u001b[0m\u001b[0m\n\u001b[0;32m     23\u001b[0m       \u001b[0mchar\u001b[0m \u001b[1;33m=\u001b[0m \u001b[0mself\u001b[0m\u001b[1;33m.\u001b[0m\u001b[0mcodigoFonte\u001b[0m\u001b[1;33m[\u001b[0m\u001b[1;36m0\u001b[0m\u001b[1;33m]\u001b[0m\u001b[1;33m\u001b[0m\u001b[1;33m\u001b[0m\u001b[0m\n\u001b[1;32m---> 24\u001b[1;33m       \u001b[0mentrada\u001b[0m \u001b[1;33m=\u001b[0m \u001b[0mtabelaEstados\u001b[0m\u001b[1;33m.\u001b[0m\u001b[0mverificaTipoCaractere\u001b[0m\u001b[1;33m(\u001b[0m\u001b[0mchar\u001b[0m\u001b[1;33m)\u001b[0m\u001b[1;33m\u001b[0m\u001b[1;33m\u001b[0m\u001b[0m\n\u001b[0m\u001b[0;32m     25\u001b[0m       \u001b[1;32mif\u001b[0m\u001b[1;33m(\u001b[0m\u001b[0mentrada\u001b[0m \u001b[1;33m==\u001b[0m \u001b[1;34m'$'\u001b[0m\u001b[1;33m)\u001b[0m\u001b[1;33m:\u001b[0m\u001b[1;33m\u001b[0m\u001b[1;33m\u001b[0m\u001b[0m\n\u001b[0;32m     26\u001b[0m         \u001b[1;32mif\u001b[0m\u001b[1;33m(\u001b[0m\u001b[0mtabelaEstados\u001b[0m\u001b[1;33m.\u001b[0m\u001b[0mverificarSeEstaEmEstadoFinal\u001b[0m\u001b[1;33m(\u001b[0m\u001b[1;33m)\u001b[0m\u001b[1;33m)\u001b[0m\u001b[1;33m:\u001b[0m\u001b[1;33m\u001b[0m\u001b[1;33m\u001b[0m\u001b[0m\n",
      "\u001b[1;31mTypeError\u001b[0m: verificaTipoCaractere() missing 1 required positional argument: 'char'"
     ]
    }
   ],
   "source": [
    "Scanner(codigoFonte).scanner(TabelaDeEstados)"
   ]
  }
 ],
 "metadata": {
  "kernelspec": {
   "display_name": "base",
   "language": "python",
   "name": "python3"
  },
  "language_info": {
   "codemirror_mode": {
    "name": "ipython",
    "version": 3
   },
   "file_extension": ".py",
   "mimetype": "text/x-python",
   "name": "python",
   "nbconvert_exporter": "python",
   "pygments_lexer": "ipython3",
   "version": "3.9.7"
  },
  "orig_nbformat": 4,
  "vscode": {
   "interpreter": {
    "hash": "ad2bdc8ecc057115af97d19610ffacc2b4e99fae6737bb82f5d7fb13d2f2c186"
   }
  }
 },
 "nbformat": 4,
 "nbformat_minor": 2
}
