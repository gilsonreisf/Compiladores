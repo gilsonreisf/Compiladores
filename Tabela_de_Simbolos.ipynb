{
  "nbformat": 4,
  "nbformat_minor": 0,
  "metadata": {
    "colab": {
      "provenance": [],
      "authorship_tag": "ABX9TyMFtK5ZIj1g7ewxp/C7K16U"
    },
    "kernelspec": {
      "name": "python3",
      "display_name": "Python 3"
    },
    "language_info": {
      "name": "python"
    }
  },
  "cells": [
    {
      "cell_type": "code",
      "source": [
        "from Token import Token"
      ],
      "metadata": {
        "id": "9KwG7N3mle2W"
      },
      "execution_count": 12,
      "outputs": []
    },
    {
      "cell_type": "code",
      "source": [
        "class Tabela_de_Simbolos:\n",
        "    def __init__(self):\n",
        "      self.Tabela_de_Simbolos = {\n",
        "          'inicio': {'classe':'inicio', 'lexema':'inicio', 'tipo':'inicio'},\n",
        "          'varinicio': {'classe':'varinicio', 'lexema':'varinicio', 'tipo':'varinicio'},\n",
        "          'varfim': {'classe':'varfim', 'lexema':'varfim', 'tipo':'varfim'},\n",
        "          'escreva': {'classe':'escreva', 'lexema':'escreva', 'tipo':'escreva'},\n",
        "          'leia': {'classe':'leia', 'lexema':'leia', 'tipo':'leia'},\n",
        "          'se': {'classe':'se', 'lexema':'se', 'tipo':'se'},\n",
        "          'entao': {'classe':'entao', 'lexema':'entao', 'tipo':'entao'},\n",
        "          'fimse': {'classe':'fimse', 'lexema':'fimse', 'tipo':'fimse'},\n",
        "          'fim': {'classe':'fim', 'lexema':'fim', 'tipo':'fim'},\n",
        "          'inteiro': {'classe':'inteiro', 'lexema':'inteiro', 'tipo':'inteiro'},\n",
        "          'literal': {'classe':'literal', 'lexema':'literal', 'tipo':'literal'},\n",
        "          'real': {'classe':'real', 'lexema':'real', 'tipo':'real'}\n",
        "        }"
      ],
      "metadata": {
        "id": "PRP9-PF1k9lu"
      },
      "execution_count": 14,
      "outputs": []
    },
    {
      "cell_type": "code",
      "source": [
        "def buscar_token(self, token:Token):\n",
        "        for t in self.tabela:\n",
        "            if(t.lexema == token.lexema):\n",
        "                return t\n",
        "        return None\n",
        "      \n",
        "\n",
        "def inserir_token(self, token:Token):\n",
        "        token_encontrado = self.buscar_token(token)\n",
        "        if(token_encontrado is None):\n",
        "            if(token.classe == \"id\"):\n",
        "                self.tabela.append(token)\n",
        "            return token\n",
        "        else:\n",
        "            return token_encontrado\n",
        "\n",
        "def atualizar_token(self, token: Token):\n",
        "      if(token.classe == \"id\"):\n",
        "            token_tabela_simbolos = self.buscar_token(token)\n",
        "            if(token_tabela_simbolos):\n",
        "                self.tabela.remove(token_tabela_simbolos)\n",
        "                self.tabela.append(token)  \n",
        "\n",
        "def imprimir_tabela(self):\n",
        "        for i in self.tabela:\n",
        "            print(i)\n",
        "    "
      ],
      "metadata": {
        "id": "qxYlBOXblAqI"
      },
      "execution_count": 15,
      "outputs": []
    }
  ]
}