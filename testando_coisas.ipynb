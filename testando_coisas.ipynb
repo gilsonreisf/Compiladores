{
 "cells": [
  {
   "cell_type": "code",
   "execution_count": 1,
   "metadata": {},
   "outputs": [],
   "source": [
    "arquivo = open(\"teste.txt\", \"r\")\n",
    "codigoFonte = arquivo.readlines()"
   ]
  },
  {
   "cell_type": "code",
   "execution_count": 2,
   "metadata": {},
   "outputs": [
    {
     "data": {
      "text/plain": [
       "['inicio\\n',\n",
       " '    varinicio\\n',\n",
       " '        literal A;\\n',\n",
       " '        inteiro B, D, E;\\n',\n",
       " '        real C ;\\n',\n",
       " '    varfim;\\n',\n",
       " '    escreva \"Digite B:\";\\n',\n",
       " '    leia B;\\n',\n",
       " '    escreva \"Digite A:\";\\n',\n",
       " '    leia A;\\n',\n",
       " '    se(B>2)\\n',\n",
       " '    entao\\n',\n",
       " '        se(B<=4)\\n',\n",
       " '        entao\\n',\n",
       " '            escreva \"B esta entre 2 e 4\";\\n',\n",
       " '        fimse\\n',\n",
       " '    fimse\\n',\n",
       " '    B<-B+1;\\n',\n",
       " '    B<-B+2;\\n',\n",
       " '    B<-B+3;\\n',\n",
       " '    D<-B;\\n',\n",
       " '    C<-5.0;\\n',\n",
       " '    E<-B+2;\\n',\n",
       " '    escreva C;\\n',\n",
       " '    B<-B+1;\\n',\n",
       " '    escreva \"\\\\nB=\\\\n\"; {\\\\n Ã© o sÃ\\xadmbolo para salto de linha}\\n',\n",
       " '    escreva D;\\n',\n",
       " '    escreva \"\\\\n\";\\n',\n",
       " '    escreva C;\\n',\n",
       " '    escreva \"\\\\n\";\\n',\n",
       " '    escreva A;\\n',\n",
       " 'fim']"
      ]
     },
     "execution_count": 2,
     "metadata": {},
     "output_type": "execute_result"
    }
   ],
   "source": [
    "codigoFonte"
   ]
  },
  {
   "cell_type": "code",
   "execution_count": 3,
   "metadata": {},
   "outputs": [],
   "source": [
    "def limpa_codigo(codigoFonte):\n",
    "  novo_codigo = []\n",
    "  for i in codigoFonte:\n",
    "    novo_codigo.append(i[:][:-1])\n",
    "  return novo_codigo"
   ]
  },
  {
   "cell_type": "code",
   "execution_count": 4,
   "metadata": {},
   "outputs": [],
   "source": [
    "new_code = limpa_codigo(codigoFonte)"
   ]
  },
  {
   "cell_type": "code",
   "execution_count": 5,
   "metadata": {},
   "outputs": [
    {
     "data": {
      "text/plain": [
       "['inicio',\n",
       " '    varinicio',\n",
       " '        literal A;',\n",
       " '        inteiro B, D, E;',\n",
       " '        real C ;',\n",
       " '    varfim;',\n",
       " '    escreva \"Digite B:\";',\n",
       " '    leia B;',\n",
       " '    escreva \"Digite A:\";',\n",
       " '    leia A;',\n",
       " '    se(B>2)',\n",
       " '    entao',\n",
       " '        se(B<=4)',\n",
       " '        entao',\n",
       " '            escreva \"B esta entre 2 e 4\";',\n",
       " '        fimse',\n",
       " '    fimse',\n",
       " '    B<-B+1;',\n",
       " '    B<-B+2;',\n",
       " '    B<-B+3;',\n",
       " '    D<-B;',\n",
       " '    C<-5.0;',\n",
       " '    E<-B+2;',\n",
       " '    escreva C;',\n",
       " '    B<-B+1;',\n",
       " '    escreva \"\\\\nB=\\\\n\"; {\\\\n Ã© o sÃ\\xadmbolo para salto de linha}',\n",
       " '    escreva D;',\n",
       " '    escreva \"\\\\n\";',\n",
       " '    escreva C;',\n",
       " '    escreva \"\\\\n\";',\n",
       " '    escreva A;',\n",
       " 'fi']"
      ]
     },
     "execution_count": 5,
     "metadata": {},
     "output_type": "execute_result"
    }
   ],
   "source": [
    "new_code"
   ]
  },
  {
   "cell_type": "code",
   "execution_count": 6,
   "metadata": {},
   "outputs": [
    {
     "data": {
      "text/plain": [
       "'inicio'"
      ]
     },
     "execution_count": 6,
     "metadata": {},
     "output_type": "execute_result"
    }
   ],
   "source": [
    "new_code[0]"
   ]
  },
  {
   "cell_type": "code",
   "execution_count": 7,
   "metadata": {},
   "outputs": [],
   "source": [
    "codigo_final = []\n",
    "for line in new_code:\n",
    "    for caractere in line:\n",
    "        codigo_final.append(caractere)"
   ]
  },
  {
   "cell_type": "code",
   "execution_count": 8,
   "metadata": {},
   "outputs": [
    {
     "data": {
      "text/plain": [
       "['i',\n",
       " 'n',\n",
       " 'i',\n",
       " 'c',\n",
       " 'i',\n",
       " 'o',\n",
       " ' ',\n",
       " ' ',\n",
       " ' ',\n",
       " ' ',\n",
       " 'v',\n",
       " 'a',\n",
       " 'r',\n",
       " 'i',\n",
       " 'n',\n",
       " 'i',\n",
       " 'c',\n",
       " 'i',\n",
       " 'o',\n",
       " ' ',\n",
       " ' ',\n",
       " ' ',\n",
       " ' ',\n",
       " ' ',\n",
       " ' ',\n",
       " ' ',\n",
       " ' ',\n",
       " 'l',\n",
       " 'i',\n",
       " 't',\n",
       " 'e',\n",
       " 'r',\n",
       " 'a',\n",
       " 'l',\n",
       " ' ',\n",
       " 'A',\n",
       " ';',\n",
       " ' ',\n",
       " ' ',\n",
       " ' ',\n",
       " ' ',\n",
       " ' ',\n",
       " ' ',\n",
       " ' ',\n",
       " ' ',\n",
       " 'i',\n",
       " 'n',\n",
       " 't',\n",
       " 'e',\n",
       " 'i',\n",
       " 'r',\n",
       " 'o',\n",
       " ' ',\n",
       " 'B',\n",
       " ',',\n",
       " ' ',\n",
       " 'D',\n",
       " ',',\n",
       " ' ',\n",
       " 'E',\n",
       " ';',\n",
       " ' ',\n",
       " ' ',\n",
       " ' ',\n",
       " ' ',\n",
       " ' ',\n",
       " ' ',\n",
       " ' ',\n",
       " ' ',\n",
       " 'r',\n",
       " 'e',\n",
       " 'a',\n",
       " 'l',\n",
       " ' ',\n",
       " 'C',\n",
       " ' ',\n",
       " ';',\n",
       " ' ',\n",
       " ' ',\n",
       " ' ',\n",
       " ' ',\n",
       " 'v',\n",
       " 'a',\n",
       " 'r',\n",
       " 'f',\n",
       " 'i',\n",
       " 'm',\n",
       " ';',\n",
       " ' ',\n",
       " ' ',\n",
       " ' ',\n",
       " ' ',\n",
       " 'e',\n",
       " 's',\n",
       " 'c',\n",
       " 'r',\n",
       " 'e',\n",
       " 'v',\n",
       " 'a',\n",
       " ' ',\n",
       " '\"',\n",
       " 'D',\n",
       " 'i',\n",
       " 'g',\n",
       " 'i',\n",
       " 't',\n",
       " 'e',\n",
       " ' ',\n",
       " 'B',\n",
       " ':',\n",
       " '\"',\n",
       " ';',\n",
       " ' ',\n",
       " ' ',\n",
       " ' ',\n",
       " ' ',\n",
       " 'l',\n",
       " 'e',\n",
       " 'i',\n",
       " 'a',\n",
       " ' ',\n",
       " 'B',\n",
       " ';',\n",
       " ' ',\n",
       " ' ',\n",
       " ' ',\n",
       " ' ',\n",
       " 'e',\n",
       " 's',\n",
       " 'c',\n",
       " 'r',\n",
       " 'e',\n",
       " 'v',\n",
       " 'a',\n",
       " ' ',\n",
       " '\"',\n",
       " 'D',\n",
       " 'i',\n",
       " 'g',\n",
       " 'i',\n",
       " 't',\n",
       " 'e',\n",
       " ' ',\n",
       " 'A',\n",
       " ':',\n",
       " '\"',\n",
       " ';',\n",
       " ' ',\n",
       " ' ',\n",
       " ' ',\n",
       " ' ',\n",
       " 'l',\n",
       " 'e',\n",
       " 'i',\n",
       " 'a',\n",
       " ' ',\n",
       " 'A',\n",
       " ';',\n",
       " ' ',\n",
       " ' ',\n",
       " ' ',\n",
       " ' ',\n",
       " 's',\n",
       " 'e',\n",
       " '(',\n",
       " 'B',\n",
       " '>',\n",
       " '2',\n",
       " ')',\n",
       " ' ',\n",
       " ' ',\n",
       " ' ',\n",
       " ' ',\n",
       " 'e',\n",
       " 'n',\n",
       " 't',\n",
       " 'a',\n",
       " 'o',\n",
       " ' ',\n",
       " ' ',\n",
       " ' ',\n",
       " ' ',\n",
       " ' ',\n",
       " ' ',\n",
       " ' ',\n",
       " ' ',\n",
       " 's',\n",
       " 'e',\n",
       " '(',\n",
       " 'B',\n",
       " '<',\n",
       " '=',\n",
       " '4',\n",
       " ')',\n",
       " ' ',\n",
       " ' ',\n",
       " ' ',\n",
       " ' ',\n",
       " ' ',\n",
       " ' ',\n",
       " ' ',\n",
       " ' ',\n",
       " 'e',\n",
       " 'n',\n",
       " 't',\n",
       " 'a',\n",
       " 'o',\n",
       " ' ',\n",
       " ' ',\n",
       " ' ',\n",
       " ' ',\n",
       " ' ',\n",
       " ' ',\n",
       " ' ',\n",
       " ' ',\n",
       " ' ',\n",
       " ' ',\n",
       " ' ',\n",
       " ' ',\n",
       " 'e',\n",
       " 's',\n",
       " 'c',\n",
       " 'r',\n",
       " 'e',\n",
       " 'v',\n",
       " 'a',\n",
       " ' ',\n",
       " '\"',\n",
       " 'B',\n",
       " ' ',\n",
       " 'e',\n",
       " 's',\n",
       " 't',\n",
       " 'a',\n",
       " ' ',\n",
       " 'e',\n",
       " 'n',\n",
       " 't',\n",
       " 'r',\n",
       " 'e',\n",
       " ' ',\n",
       " '2',\n",
       " ' ',\n",
       " 'e',\n",
       " ' ',\n",
       " '4',\n",
       " '\"',\n",
       " ';',\n",
       " ' ',\n",
       " ' ',\n",
       " ' ',\n",
       " ' ',\n",
       " ' ',\n",
       " ' ',\n",
       " ' ',\n",
       " ' ',\n",
       " 'f',\n",
       " 'i',\n",
       " 'm',\n",
       " 's',\n",
       " 'e',\n",
       " ' ',\n",
       " ' ',\n",
       " ' ',\n",
       " ' ',\n",
       " 'f',\n",
       " 'i',\n",
       " 'm',\n",
       " 's',\n",
       " 'e',\n",
       " ' ',\n",
       " ' ',\n",
       " ' ',\n",
       " ' ',\n",
       " 'B',\n",
       " '<',\n",
       " '-',\n",
       " 'B',\n",
       " '+',\n",
       " '1',\n",
       " ';',\n",
       " ' ',\n",
       " ' ',\n",
       " ' ',\n",
       " ' ',\n",
       " 'B',\n",
       " '<',\n",
       " '-',\n",
       " 'B',\n",
       " '+',\n",
       " '2',\n",
       " ';',\n",
       " ' ',\n",
       " ' ',\n",
       " ' ',\n",
       " ' ',\n",
       " 'B',\n",
       " '<',\n",
       " '-',\n",
       " 'B',\n",
       " '+',\n",
       " '3',\n",
       " ';',\n",
       " ' ',\n",
       " ' ',\n",
       " ' ',\n",
       " ' ',\n",
       " 'D',\n",
       " '<',\n",
       " '-',\n",
       " 'B',\n",
       " ';',\n",
       " ' ',\n",
       " ' ',\n",
       " ' ',\n",
       " ' ',\n",
       " 'C',\n",
       " '<',\n",
       " '-',\n",
       " '5',\n",
       " '.',\n",
       " '0',\n",
       " ';',\n",
       " ' ',\n",
       " ' ',\n",
       " ' ',\n",
       " ' ',\n",
       " 'E',\n",
       " '<',\n",
       " '-',\n",
       " 'B',\n",
       " '+',\n",
       " '2',\n",
       " ';',\n",
       " ' ',\n",
       " ' ',\n",
       " ' ',\n",
       " ' ',\n",
       " 'e',\n",
       " 's',\n",
       " 'c',\n",
       " 'r',\n",
       " 'e',\n",
       " 'v',\n",
       " 'a',\n",
       " ' ',\n",
       " 'C',\n",
       " ';',\n",
       " ' ',\n",
       " ' ',\n",
       " ' ',\n",
       " ' ',\n",
       " 'B',\n",
       " '<',\n",
       " '-',\n",
       " 'B',\n",
       " '+',\n",
       " '1',\n",
       " ';',\n",
       " ' ',\n",
       " ' ',\n",
       " ' ',\n",
       " ' ',\n",
       " 'e',\n",
       " 's',\n",
       " 'c',\n",
       " 'r',\n",
       " 'e',\n",
       " 'v',\n",
       " 'a',\n",
       " ' ',\n",
       " '\"',\n",
       " '\\\\',\n",
       " 'n',\n",
       " 'B',\n",
       " '=',\n",
       " '\\\\',\n",
       " 'n',\n",
       " '\"',\n",
       " ';',\n",
       " ' ',\n",
       " '{',\n",
       " '\\\\',\n",
       " 'n',\n",
       " ' ',\n",
       " 'Ã',\n",
       " '©',\n",
       " ' ',\n",
       " 'o',\n",
       " ' ',\n",
       " 's',\n",
       " 'Ã',\n",
       " '\\xad',\n",
       " 'm',\n",
       " 'b',\n",
       " 'o',\n",
       " 'l',\n",
       " 'o',\n",
       " ' ',\n",
       " 'p',\n",
       " 'a',\n",
       " 'r',\n",
       " 'a',\n",
       " ' ',\n",
       " 's',\n",
       " 'a',\n",
       " 'l',\n",
       " 't',\n",
       " 'o',\n",
       " ' ',\n",
       " 'd',\n",
       " 'e',\n",
       " ' ',\n",
       " 'l',\n",
       " 'i',\n",
       " 'n',\n",
       " 'h',\n",
       " 'a',\n",
       " '}',\n",
       " ' ',\n",
       " ' ',\n",
       " ' ',\n",
       " ' ',\n",
       " 'e',\n",
       " 's',\n",
       " 'c',\n",
       " 'r',\n",
       " 'e',\n",
       " 'v',\n",
       " 'a',\n",
       " ' ',\n",
       " 'D',\n",
       " ';',\n",
       " ' ',\n",
       " ' ',\n",
       " ' ',\n",
       " ' ',\n",
       " 'e',\n",
       " 's',\n",
       " 'c',\n",
       " 'r',\n",
       " 'e',\n",
       " 'v',\n",
       " 'a',\n",
       " ' ',\n",
       " '\"',\n",
       " '\\\\',\n",
       " 'n',\n",
       " '\"',\n",
       " ';',\n",
       " ' ',\n",
       " ' ',\n",
       " ' ',\n",
       " ' ',\n",
       " 'e',\n",
       " 's',\n",
       " 'c',\n",
       " 'r',\n",
       " 'e',\n",
       " 'v',\n",
       " 'a',\n",
       " ' ',\n",
       " 'C',\n",
       " ';',\n",
       " ' ',\n",
       " ' ',\n",
       " ' ',\n",
       " ' ',\n",
       " 'e',\n",
       " 's',\n",
       " 'c',\n",
       " 'r',\n",
       " 'e',\n",
       " 'v',\n",
       " 'a',\n",
       " ' ',\n",
       " '\"',\n",
       " '\\\\',\n",
       " 'n',\n",
       " '\"',\n",
       " ';',\n",
       " ' ',\n",
       " ' ',\n",
       " ' ',\n",
       " ' ',\n",
       " 'e',\n",
       " 's',\n",
       " 'c',\n",
       " 'r',\n",
       " 'e',\n",
       " 'v',\n",
       " 'a',\n",
       " ' ',\n",
       " 'A',\n",
       " ';',\n",
       " 'f',\n",
       " 'i']"
      ]
     },
     "execution_count": 8,
     "metadata": {},
     "output_type": "execute_result"
    }
   ],
   "source": [
    "codigo_final"
   ]
  },
  {
   "cell_type": "code",
   "execution_count": 9,
   "metadata": {},
   "outputs": [
    {
     "data": {
      "text/plain": [
       "'inicio'"
      ]
     },
     "execution_count": 9,
     "metadata": {},
     "output_type": "execute_result"
    }
   ],
   "source": [
    "      #[LINHA][COLUNA]\n",
    "codigoFonte[0][:-1]"
   ]
  },
  {
   "cell_type": "code",
   "execution_count": 10,
   "metadata": {},
   "outputs": [],
   "source": [
    "from Tabela_de_Simbolos import Tabela_de_Simbolos"
   ]
  },
  {
   "cell_type": "code",
   "execution_count": 11,
   "metadata": {},
   "outputs": [],
   "source": [
    "minha_tabela = Tabela_de_Simbolos()"
   ]
  },
  {
   "cell_type": "code",
   "execution_count": 12,
   "metadata": {},
   "outputs": [
    {
     "name": "stdout",
     "output_type": "stream",
     "text": [
      "Classe:inicio, Lexema:inicio, Tipo:inicio\n",
      "Classe:varinicio, Lexema:varinicio, Tipo:varinicio\n",
      "Classe:varfim, Lexema:varfim, Tipo:varfim\n",
      "Classe:escreva, Lexema:escreva, Tipo:escreva\n",
      "Classe:leia, Lexema:leia, Tipo:leia\n",
      "Classe:se, Lexema:se, Tipo:se\n",
      "Classe:entao, Lexema:entao, Tipo:entao\n",
      "Classe:fimse, Lexema:fimse, Tipo:fimse\n",
      "Classe:fim, Lexema:fim, Tipo:fim\n",
      "Classe:inteiro, Lexema:inteiro, Tipo:inteiro\n",
      "Classe:literal, Lexema:literal, Tipo:literal\n",
      "Classe:real, Lexema:real, Tipo:real\n"
     ]
    }
   ],
   "source": [
    "Tabela_de_Simbolos.imprimir_tabela(minha_tabela)"
   ]
  },
  {
   "cell_type": "code",
   "execution_count": 13,
   "metadata": {},
   "outputs": [],
   "source": [
    "from Token import Token"
   ]
  },
  {
   "cell_type": "code",
   "execution_count": 14,
   "metadata": {},
   "outputs": [
    {
     "name": "stdout",
     "output_type": "stream",
     "text": [
      "Classe: real, Lexema: real, Tipo: real\n"
     ]
    }
   ],
   "source": [
    "#Tabela_de_Simbolos.buscar_token(minha_tabela, Token(classe=\"Classe_exemplo\",lexema=\"lexema_Exemplo\", tipo=\"tipo\"))\n",
    "resultado = Tabela_de_Simbolos.buscar_token(minha_tabela, Token(classe=\"real\",lexema=\"real\", tipo=\"real\"))\n",
    "print(resultado)"
   ]
  },
  {
   "cell_type": "code",
   "execution_count": 15,
   "metadata": {},
   "outputs": [
    {
     "data": {
      "text/plain": [
       "Classe: id, Lexema: felps, Tipo: gilso"
      ]
     },
     "execution_count": 15,
     "metadata": {},
     "output_type": "execute_result"
    }
   ],
   "source": [
    "Tabela_de_Simbolos.inserir_token(minha_tabela, Token(classe=\"id\",lexema=\"felps\", tipo=\"gilso\"))"
   ]
  },
  {
   "cell_type": "code",
   "execution_count": 16,
   "metadata": {},
   "outputs": [
    {
     "name": "stdout",
     "output_type": "stream",
     "text": [
      "Classe:inicio, Lexema:inicio, Tipo:inicio\n",
      "Classe:varinicio, Lexema:varinicio, Tipo:varinicio\n",
      "Classe:varfim, Lexema:varfim, Tipo:varfim\n",
      "Classe:escreva, Lexema:escreva, Tipo:escreva\n",
      "Classe:leia, Lexema:leia, Tipo:leia\n",
      "Classe:se, Lexema:se, Tipo:se\n",
      "Classe:entao, Lexema:entao, Tipo:entao\n",
      "Classe:fimse, Lexema:fimse, Tipo:fimse\n",
      "Classe:fim, Lexema:fim, Tipo:fim\n",
      "Classe:inteiro, Lexema:inteiro, Tipo:inteiro\n",
      "Classe:literal, Lexema:literal, Tipo:literal\n",
      "Classe:real, Lexema:real, Tipo:real\n",
      "Classe:id, Lexema:felps, Tipo:gilso\n"
     ]
    }
   ],
   "source": [
    "Tabela_de_Simbolos.imprimir_tabela(minha_tabela)"
   ]
  },
  {
   "cell_type": "code",
   "execution_count": 17,
   "metadata": {},
   "outputs": [],
   "source": [
    "Tabela_de_Simbolos.atualizar_token(minha_tabela, Token(classe=\"id\",lexema=\"felps\", tipo=\"felps\"))"
   ]
  },
  {
   "cell_type": "code",
   "execution_count": 18,
   "metadata": {},
   "outputs": [
    {
     "name": "stdout",
     "output_type": "stream",
     "text": [
      "Classe:inicio, Lexema:inicio, Tipo:inicio\n",
      "Classe:varinicio, Lexema:varinicio, Tipo:varinicio\n",
      "Classe:varfim, Lexema:varfim, Tipo:varfim\n",
      "Classe:escreva, Lexema:escreva, Tipo:escreva\n",
      "Classe:leia, Lexema:leia, Tipo:leia\n",
      "Classe:se, Lexema:se, Tipo:se\n",
      "Classe:entao, Lexema:entao, Tipo:entao\n",
      "Classe:fimse, Lexema:fimse, Tipo:fimse\n",
      "Classe:fim, Lexema:fim, Tipo:fim\n",
      "Classe:inteiro, Lexema:inteiro, Tipo:inteiro\n",
      "Classe:literal, Lexema:literal, Tipo:literal\n",
      "Classe:real, Lexema:real, Tipo:real\n",
      "Classe:id, Lexema:felps, Tipo:felps\n"
     ]
    }
   ],
   "source": [
    "Tabela_de_Simbolos.imprimir_tabela(minha_tabela)"
   ]
  },
  {
   "cell_type": "code",
   "execution_count": 19,
   "metadata": {},
   "outputs": [
    {
     "data": {
      "text/plain": [
       "[Classe: inicio, Lexema: inicio, Tipo: inicio,\n",
       " Classe: varinicio, Lexema: varinicio, Tipo: varinicio,\n",
       " Classe: varfim, Lexema: varfim, Tipo: varfim,\n",
       " Classe: escreva, Lexema: escreva, Tipo: escreva,\n",
       " Classe: leia, Lexema: leia, Tipo: leia,\n",
       " Classe: se, Lexema: se, Tipo: se,\n",
       " Classe: entao, Lexema: entao, Tipo: entao,\n",
       " Classe: fimse, Lexema: fimse, Tipo: fimse,\n",
       " Classe: fim, Lexema: fim, Tipo: fim,\n",
       " Classe: inteiro, Lexema: inteiro, Tipo: inteiro,\n",
       " Classe: literal, Lexema: literal, Tipo: literal,\n",
       " Classe: real, Lexema: real, Tipo: real,\n",
       " Classe: id, Lexema: felps, Tipo: felps]"
      ]
     },
     "execution_count": 19,
     "metadata": {},
     "output_type": "execute_result"
    }
   ],
   "source": [
    "minha_tabela.tabela"
   ]
  },
  {
   "cell_type": "code",
   "execution_count": 20,
   "metadata": {},
   "outputs": [
    {
     "data": {
      "text/plain": [
       "Classe: id, Lexema: gilso, Tipo: gilso"
      ]
     },
     "execution_count": 20,
     "metadata": {},
     "output_type": "execute_result"
    }
   ],
   "source": [
    "Token(classe=\"id\",lexema=\"gilso\", tipo=\"gilso\")"
   ]
  },
  {
   "cell_type": "code",
   "execution_count": 21,
   "metadata": {},
   "outputs": [],
   "source": [
    "Tabela_de_Simbolos.atualizar_token(minha_tabela, Token(classe=\"id\",lexema=\"gilso\", tipo=\"gilso\"))"
   ]
  },
  {
   "cell_type": "code",
   "execution_count": 22,
   "metadata": {},
   "outputs": [
    {
     "data": {
      "text/plain": [
       "[Classe: inicio, Lexema: inicio, Tipo: inicio,\n",
       " Classe: varinicio, Lexema: varinicio, Tipo: varinicio,\n",
       " Classe: varfim, Lexema: varfim, Tipo: varfim,\n",
       " Classe: escreva, Lexema: escreva, Tipo: escreva,\n",
       " Classe: leia, Lexema: leia, Tipo: leia,\n",
       " Classe: se, Lexema: se, Tipo: se,\n",
       " Classe: entao, Lexema: entao, Tipo: entao,\n",
       " Classe: fimse, Lexema: fimse, Tipo: fimse,\n",
       " Classe: fim, Lexema: fim, Tipo: fim,\n",
       " Classe: inteiro, Lexema: inteiro, Tipo: inteiro,\n",
       " Classe: literal, Lexema: literal, Tipo: literal,\n",
       " Classe: real, Lexema: real, Tipo: real,\n",
       " Classe: id, Lexema: felps, Tipo: felps]"
      ]
     },
     "execution_count": 22,
     "metadata": {},
     "output_type": "execute_result"
    }
   ],
   "source": [
    "minha_tabela.tabela"
   ]
  },
  {
   "cell_type": "code",
   "execution_count": 23,
   "metadata": {},
   "outputs": [
    {
     "data": {
      "text/plain": [
       "[1, 2, 3, 4, 6]"
      ]
     },
     "execution_count": 23,
     "metadata": {},
     "output_type": "execute_result"
    }
   ],
   "source": [
    "minha_lista = [1,2,3,4,5,6]\n",
    "minha_lista.remove(5)\n",
    "minha_lista"
   ]
  },
  {
   "cell_type": "code",
   "execution_count": 24,
   "metadata": {},
   "outputs": [
    {
     "data": {
      "text/plain": [
       "[1, 2, 3, 4, 6, 5]"
      ]
     },
     "execution_count": 24,
     "metadata": {},
     "output_type": "execute_result"
    }
   ],
   "source": [
    "minha_lista.append(5)\n",
    "minha_lista"
   ]
  },
  {
   "cell_type": "code",
   "execution_count": 25,
   "metadata": {},
   "outputs": [
    {
     "data": {
      "text/plain": [
       "[1, 2, 3, 4, 6]"
      ]
     },
     "execution_count": 25,
     "metadata": {},
     "output_type": "execute_result"
    }
   ],
   "source": [
    "minha_lista.pop()\n",
    "minha_lista"
   ]
  },
  {
   "cell_type": "code",
   "execution_count": 26,
   "metadata": {},
   "outputs": [],
   "source": [
    "from scanner import Scanner\n",
    "from tabela_de_estados import TabelaDeEstados"
   ]
  },
  {
   "cell_type": "code",
   "execution_count": 27,
   "metadata": {},
   "outputs": [
    {
     "ename": "TypeError",
     "evalue": "verificaTipoCaractere() missing 1 required positional argument: 'char'",
     "output_type": "error",
     "traceback": [
      "\u001b[1;31m---------------------------------------------------------------------------\u001b[0m",
      "\u001b[1;31mTypeError\u001b[0m                                 Traceback (most recent call last)",
      "\u001b[1;32m~\\AppData\\Local\\Temp/ipykernel_14076/3650147880.py\u001b[0m in \u001b[0;36m<module>\u001b[1;34m\u001b[0m\n\u001b[1;32m----> 1\u001b[1;33m \u001b[0mScanner\u001b[0m\u001b[1;33m(\u001b[0m\u001b[0mcodigoFonte\u001b[0m\u001b[1;33m)\u001b[0m\u001b[1;33m.\u001b[0m\u001b[0mscanner\u001b[0m\u001b[1;33m(\u001b[0m\u001b[0mTabelaDeEstados\u001b[0m\u001b[1;33m)\u001b[0m\u001b[1;33m\u001b[0m\u001b[1;33m\u001b[0m\u001b[0m\n\u001b[0m",
      "\u001b[1;32mc:\\Users\\Felipe\\Documents\\Compiladores\\scanner.py\u001b[0m in \u001b[0;36mscanner\u001b[1;34m(self, tabelaEstados)\u001b[0m\n\u001b[0;32m     22\u001b[0m     \u001b[1;32mwhile\u001b[0m\u001b[1;33m(\u001b[0m\u001b[0mself\u001b[0m\u001b[1;33m.\u001b[0m\u001b[0mcodigoFonte\u001b[0m\u001b[1;33m)\u001b[0m\u001b[1;33m:\u001b[0m\u001b[1;33m\u001b[0m\u001b[1;33m\u001b[0m\u001b[0m\n\u001b[0;32m     23\u001b[0m       \u001b[0mchar\u001b[0m \u001b[1;33m=\u001b[0m \u001b[0mself\u001b[0m\u001b[1;33m.\u001b[0m\u001b[0mcodigoFonte\u001b[0m\u001b[1;33m[\u001b[0m\u001b[1;36m0\u001b[0m\u001b[1;33m]\u001b[0m\u001b[1;33m\u001b[0m\u001b[1;33m\u001b[0m\u001b[0m\n\u001b[1;32m---> 24\u001b[1;33m       \u001b[0mentrada\u001b[0m \u001b[1;33m=\u001b[0m \u001b[0mtabelaEstados\u001b[0m\u001b[1;33m.\u001b[0m\u001b[0mverificaTipoCaractere\u001b[0m\u001b[1;33m(\u001b[0m\u001b[0mchar\u001b[0m\u001b[1;33m)\u001b[0m\u001b[1;33m\u001b[0m\u001b[1;33m\u001b[0m\u001b[0m\n\u001b[0m\u001b[0;32m     25\u001b[0m       \u001b[1;32mif\u001b[0m\u001b[1;33m(\u001b[0m\u001b[0mentrada\u001b[0m \u001b[1;33m==\u001b[0m \u001b[1;34m'$'\u001b[0m\u001b[1;33m)\u001b[0m\u001b[1;33m:\u001b[0m\u001b[1;33m\u001b[0m\u001b[1;33m\u001b[0m\u001b[0m\n\u001b[0;32m     26\u001b[0m         \u001b[1;32mif\u001b[0m\u001b[1;33m(\u001b[0m\u001b[0mtabelaEstados\u001b[0m\u001b[1;33m.\u001b[0m\u001b[0mverificarSeEstaEmEstadoFinal\u001b[0m\u001b[1;33m(\u001b[0m\u001b[1;33m)\u001b[0m\u001b[1;33m)\u001b[0m\u001b[1;33m:\u001b[0m\u001b[1;33m\u001b[0m\u001b[1;33m\u001b[0m\u001b[0m\n",
      "\u001b[1;31mTypeError\u001b[0m: verificaTipoCaractere() missing 1 required positional argument: 'char'"
     ]
    }
   ],
   "source": [
    "Scanner(codigoFonte).scanner(TabelaDeEstados)"
   ]
  },
  {
   "cell_type": "code",
   "execution_count": 51,
   "metadata": {},
   "outputs": [],
   "source": [
    "from tabela_de_estados import TabelaDeEstados"
   ]
  },
  {
   "cell_type": "code",
   "execution_count": 52,
   "metadata": {},
   "outputs": [],
   "source": [
    "minha_tabela = TabelaDeEstados()"
   ]
  },
  {
   "cell_type": "code",
   "execution_count": 53,
   "metadata": {},
   "outputs": [],
   "source": [
    "minha_tabela.estado_atual = 15"
   ]
  },
  {
   "cell_type": "code",
   "execution_count": 54,
   "metadata": {},
   "outputs": [],
   "source": [
    "#minha_tabela.estados_finais[minha_tabela.estado_atual]"
   ]
  },
  {
   "cell_type": "code",
   "execution_count": 55,
   "metadata": {},
   "outputs": [
    {
     "data": {
      "text/plain": [
       "'EOF'"
      ]
     },
     "execution_count": 55,
     "metadata": {},
     "output_type": "execute_result"
    }
   ],
   "source": [
    "minha_tabela.retornaClasse()"
   ]
  },
  {
   "cell_type": "code",
   "execution_count": 56,
   "metadata": {},
   "outputs": [
    {
     "data": {
      "text/plain": [
       "'NULO'"
      ]
     },
     "execution_count": 56,
     "metadata": {},
     "output_type": "execute_result"
    }
   ],
   "source": [
    "minha_tabela.retornaTipo()"
   ]
  },
  {
   "cell_type": "code",
   "execution_count": 58,
   "metadata": {},
   "outputs": [],
   "source": [
    "def construir_token(tabela_de_simbolos, tabela_de_estados, lexema):\n",
    "    classe = tabela_de_estados.retornaClasse()\n",
    "    tipo = tabela_de_estados.retornaTipo()\n",
    "    if classe == 'id':\n",
    "        token = tabela_de_simbolos.buscar_token(Token(classe, lexema, tipo))\n",
    "        if token == None:\n",
    "            token = tabela_de_simbolos.inserir_token(Token(classe, lexema, tipo))\n",
    "        \n",
    "        return token\n",
    "    else:\n",
    "        return Token(classe, lexema, tipo)"
   ]
  }
 ],
 "metadata": {
  "kernelspec": {
   "display_name": "base",
   "language": "python",
   "name": "python3"
  },
  "language_info": {
   "codemirror_mode": {
    "name": "ipython",
    "version": 3
   },
   "file_extension": ".py",
   "mimetype": "text/x-python",
   "name": "python",
   "nbconvert_exporter": "python",
   "pygments_lexer": "ipython3",
   "version": "3.9.7"
  },
  "orig_nbformat": 4,
  "vscode": {
   "interpreter": {
    "hash": "ad2bdc8ecc057115af97d19610ffacc2b4e99fae6737bb82f5d7fb13d2f2c186"
   }
  }
 },
 "nbformat": 4,
 "nbformat_minor": 2
}
