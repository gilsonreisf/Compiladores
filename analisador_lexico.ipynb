{
 "cells": [
  {
   "cell_type": "code",
   "execution_count": 1,
   "metadata": {},
   "outputs": [],
   "source": [
    "import string"
   ]
  },
  {
   "cell_type": "code",
   "execution_count": 64,
   "metadata": {},
   "outputs": [],
   "source": [
    "def verifica_digito(character : str):\n",
    "    digitos = ['0','1','2','3','4','5','6','7','8','9']\n",
    "    if character in digitos:\n",
    "        return True\n",
    "    else:\n",
    "        return False"
   ]
  },
  {
   "cell_type": "code",
   "execution_count": 16,
   "metadata": {},
   "outputs": [],
   "source": [
    "def verifica_se_letra(character : str):\n",
    "    \n",
    "    if (character in string.ascii_lowercase) or (character in string.ascii_uppercase):\n",
    "        return True\n",
    "    else:\n",
    "        return False"
   ]
  },
  {
   "cell_type": "code",
   "execution_count": 53,
   "metadata": {},
   "outputs": [],
   "source": [
    "def verifica_existencia_caractere(character : str):\n",
    "    if (character != None) and not(character.isspace()):\n",
    "        return True\n",
    "    else:\n",
    "        return False"
   ]
  },
  {
   "cell_type": "code",
   "execution_count": 68,
   "metadata": {},
   "outputs": [],
   "source": [
    "palavras_reservadas = ['inicio', 'varinicio', 'varfim', 'escreva', 'leia', \n",
    "                      'se', 'entao', 'fimse', 'fim', 'inteiro', 'literal', 'real']"
   ]
  },
  {
   "cell_type": "code",
   "execution_count": 120,
   "metadata": {},
   "outputs": [],
   "source": [
    "indice_tabela = {'D':0, '\\\"':1, 'L':2, '{':3}"
   ]
  },
  {
   "cell_type": "code",
   "execution_count": 121,
   "metadata": {},
   "outputs": [
    {
     "data": {
      "text/plain": [
       "1"
      ]
     },
     "execution_count": 121,
     "metadata": {},
     "output_type": "execute_result"
    }
   ],
   "source": [
    "indice_tabela['\"']"
   ]
  },
  {
   "cell_type": "code",
   "execution_count": 122,
   "metadata": {},
   "outputs": [],
   "source": [
    "                    #    D  \"   L  {\n",
    "tabela_de_estados = [  # 0  1   2  3\n",
    "                        [1, 7, 10, 12], #0 \n",
    "                        [], #1\n",
    "                        [], #2\n",
    "                        [], #3 \n",
    "                        [], #4\n",
    "                        [], #5\n",
    "                        [], #6 \n",
    "                        [], #7\n",
    "                        [], #8\n",
    "                        [], #9 \n",
    "                        [], #10\n",
    "                        [], #11\n",
    "                        [], #12 \n",
    "                        [], #13\n",
    "                        [], #14\n",
    "                        [], #15\n",
    "                        [], #16\n",
    "                        [], #17\n",
    "                        [], #18\n",
    "                        [], #19\n",
    "                        [], #20\n",
    "                        [], #21\n",
    "                        [], #22\n",
    "                        [], #23\n",
    "                    ]"
   ]
  },
  {
   "cell_type": "code",
   "execution_count": 114,
   "metadata": {},
   "outputs": [
    {
     "data": {
      "text/plain": [
       "1"
      ]
     },
     "execution_count": 114,
     "metadata": {},
     "output_type": "execute_result"
    }
   ],
   "source": [
    "                #[estado atual] [ caractere recebido] return proximo estado\n",
    "tabela_de_estados[0][0]"
   ]
  },
  {
   "cell_type": "code",
   "execution_count": 1,
   "metadata": {},
   "outputs": [],
   "source": [
    "tabelaDeEstados = {\n",
    "\n",
    "      0: {'D':1, '\"':10, 'L':13, '{':14, '$':16, ',':26, ';':25, '(':23, ')':24, '+':22, '-':22, '*':22, '/':22, '=':21, '>':19, '<':17, 'E':13, ' ':0},       \n",
    "      \n",
    "      1: {'D':1, '.':2, 'E':5},\n",
    "\n",
    "      2: {'D':3},      \n",
    "\n",
    "      3: {'D':3, 'E':4},     \n",
    "\n",
    "      4: {'D':11, '+':9, '-':9},\n",
    "\n",
    "      5: {'D':8, '+':7, '-':6},\n",
    "\n",
    "      6: {'D':11},\n",
    "\n",
    "      7: {'D':8},\n",
    "\n",
    "      8: {'D':8},    \n",
    "\n",
    "      9: {'D':11},\n",
    "      \n",
    "      10: {'\"':12, ',':10,';':10,':':10,'.':10,'!':10,'?':10,'\\\\':10,'*':10,'+':10,'-':10,'/':10,'(':10,')':10,'{':10,'}':10,'[':10,']':10,'<':10,'>':10,'=':10,'\\'':10, ' ':10, 'D':10, 'L':10, 'E':10},\n",
    "\n",
    "      13: {'D':13, 'L':13, 'E':13, '_':13},\n",
    "\n",
    "      11: {'D':11},\n",
    "      \n",
    "      14: {'':14, '}':15, ':':14, '\\\\':14, ',':14,';':14,':':14,'.':14,'!':14,'?':14,'\\\\':14,'*':14,'+':14,'-':14,'/':14,'(':14,')':14,'{':14, '[':14,']':14,'<':14,'>':14,'=':14,'\\'':14, ' ':14, 'D':14, 'L':14, 'E':14},\n",
    "      \n",
    "      17: {'-':18, '=':20, '>':20},\n",
    "    }"
   ]
  },
  {
   "cell_type": "code",
   "execution_count": 4,
   "metadata": {},
   "outputs": [
    {
     "ename": "KeyError",
     "evalue": "'L'",
     "output_type": "error",
     "traceback": [
      "\u001b[1;31m---------------------------------------------------------------------------\u001b[0m",
      "\u001b[1;31mKeyError\u001b[0m                                  Traceback (most recent call last)",
      "\u001b[1;32m~\\AppData\\Local\\Temp/ipykernel_21120/1042314880.py\u001b[0m in \u001b[0;36m<module>\u001b[1;34m\u001b[0m\n\u001b[1;32m----> 1\u001b[1;33m \u001b[0mtabelaDeEstados\u001b[0m\u001b[1;33m[\u001b[0m\u001b[1;36m6\u001b[0m\u001b[1;33m]\u001b[0m\u001b[1;33m[\u001b[0m\u001b[1;34m'L'\u001b[0m\u001b[1;33m]\u001b[0m\u001b[1;33m\u001b[0m\u001b[1;33m\u001b[0m\u001b[0m\n\u001b[0m",
      "\u001b[1;31mKeyError\u001b[0m: 'L'"
     ]
    }
   ],
   "source": [
    "tabelaDeEstados[6]['L']"
   ]
  },
  {
   "cell_type": "code",
   "execution_count": 123,
   "metadata": {},
   "outputs": [],
   "source": [
    "def realiza_mudanca_de_estado(estado_atual, character : str):\n",
    "    character_index = character\n",
    "\n",
    "    if verifica_digito(character):\n",
    "        character_index = 'D'\n",
    "\n",
    "    if verifica_se_letra(character):\n",
    "        character_index  = 'L'\n",
    "        \n",
    "    return tabela_de_estados[estado_atual][indice_tabela[character_index]]"
   ]
  },
  {
   "cell_type": "code",
   "execution_count": 139,
   "metadata": {},
   "outputs": [
    {
     "data": {
      "text/plain": [
       "10"
      ]
     },
     "execution_count": 139,
     "metadata": {},
     "output_type": "execute_result"
    }
   ],
   "source": [
    "realiza_mudanca_de_estado(0, 'A')"
   ]
  },
  {
   "cell_type": "code",
   "execution_count": 136,
   "metadata": {},
   "outputs": [],
   "source": [
    "class Token():\n",
    "    def __init__(self, classe : str, lexema : str, tipo : str) -> None:\n",
    "        self.classe = classe\n",
    "        self.lexema = lexema\n",
    "        self.tipo = tipo\n",
    "    \n",
    "    def __str__(self) -> str:\n",
    "        return f\"Classe: {self.classe}, Lexema: {self.lexema}, Tipo: {self.tipo}\"\n",
    "    def __repr__(self) -> str:\n",
    "        return f\"Classe: {self.classe}, Lexema: {self.lexema}, Tipo: {self.tipo}\""
   ]
  },
  {
   "cell_type": "code",
   "execution_count": 137,
   "metadata": {},
   "outputs": [],
   "source": [
    "x = Token(classe = \"Qualquer merda\", lexema = \"Nem sei o que é\", tipo = \"2\")"
   ]
  },
  {
   "cell_type": "code",
   "execution_count": null,
   "metadata": {},
   "outputs": [],
   "source": [
    "tabela_de_simbolos = [x] #Uma lista de tokens"
   ]
  }
 ],
 "metadata": {
  "kernelspec": {
   "display_name": "Python 3.9.7 ('base')",
   "language": "python",
   "name": "python3"
  },
  "language_info": {
   "codemirror_mode": {
    "name": "ipython",
    "version": 3
   },
   "file_extension": ".py",
   "mimetype": "text/x-python",
   "name": "python",
   "nbconvert_exporter": "python",
   "pygments_lexer": "ipython3",
   "version": "3.9.7"
  },
  "orig_nbformat": 4,
  "vscode": {
   "interpreter": {
    "hash": "ad2bdc8ecc057115af97d19610ffacc2b4e99fae6737bb82f5d7fb13d2f2c186"
   }
  }
 },
 "nbformat": 4,
 "nbformat_minor": 2
}
